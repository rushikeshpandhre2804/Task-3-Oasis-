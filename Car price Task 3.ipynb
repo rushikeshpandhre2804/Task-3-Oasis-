{
 "cells": [
  {
   "cell_type": "markdown",
   "id": "8e230029",
   "metadata": {},
   "source": [
    "# Car_Price_prediction Taks Number 3"
   ]
  },
  {
   "cell_type": "markdown",
   "id": "4912c45a",
   "metadata": {},
   "source": [
    "# Name : Pandhare Rushikesh Sudhakar"
   ]
  },
  {
   "cell_type": "markdown",
   "id": "cd11061f",
   "metadata": {
    "_cell_guid": "b1076dfc-b9ad-4769-8c92-a6c4dae69d19",
    "_uuid": "8f2839f25d086af736a60e9eeb907d3b93b6e0e5",
    "papermill": {
     "duration": 0.063913,
     "end_time": "2023-02-04T16:08:34.872729",
     "exception": false,
     "start_time": "2023-02-04T16:08:34.808816",
     "status": "completed"
    },
    "tags": []
   },
   "source": [
    "# Car_Price_prediction \n",
    "\n",
    "### Problem Statement:\n",
    "\n",
    "### Attributes Information:\n",
    "- **Car_Name**: Give the information of car Name.\n",
    "- **Year**: Give the information about \n",
    "- **Selling_Price**:Give the information about \n",
    "- **Present_Price**:Give the information about \n",
    "- **Kms_Driven**:Give the information about \n",
    "- **Fuel_Type**:Give the information about which type of fuel is use Petrol ,Diesel, CNG.\n",
    "- **Seller_Type**: Give the information about seller_type Dealer or Individual.\n",
    "- **Transmission**:Give the information about Transmission system whether is Manual or Automatic.\n",
    "- **Owner**:Give the information about Owner 0, 1, 0r 3."
   ]
  },
  {
   "cell_type": "markdown",
   "id": "94abd1a0",
   "metadata": {
    "papermill": {
     "duration": 0.049786,
     "end_time": "2023-02-04T16:08:34.976365",
     "exception": false,
     "start_time": "2023-02-04T16:08:34.926579",
     "status": "completed"
    },
    "tags": []
   },
   "source": [
    "### Workflow:\n",
    "1. Import all libraries\n",
    "2. Load dataset\n",
    "3. Check missing and null  values\n",
    "4. Data Exploration\n",
    "5. Perform data visualization\n",
    "6. Model fitting\n",
    "7. Feature extraction\n",
    "8. Prediction\n",
    "9. Deploy the model\n",
    "10. Conclusion"
   ]
  },
  {
   "cell_type": "markdown",
   "id": "daed4dfa",
   "metadata": {
    "papermill": {
     "duration": 0.049943,
     "end_time": "2023-02-04T16:08:35.076199",
     "exception": false,
     "start_time": "2023-02-04T16:08:35.026256",
     "status": "completed"
    },
    "tags": []
   },
   "source": [
    "### 1.Import all libraries\n"
   ]
  },
  {
   "cell_type": "code",
   "execution_count": 1,
   "id": "1a586cf5",
   "metadata": {
    "execution": {
     "iopub.execute_input": "2023-02-04T16:08:35.181411Z",
     "iopub.status.busy": "2023-02-04T16:08:35.180087Z",
     "iopub.status.idle": "2023-02-04T16:08:35.184196Z",
     "shell.execute_reply": "2023-02-04T16:08:35.183520Z",
     "shell.execute_reply.started": "2023-02-04T16:00:02.506716Z"
    },
    "papermill": {
     "duration": 0.057992,
     "end_time": "2023-02-04T16:08:35.184375",
     "exception": false,
     "start_time": "2023-02-04T16:08:35.126383",
     "status": "completed"
    },
    "tags": []
   },
   "outputs": [],
   "source": [
    "#installing modules\n",
    "#!pip install pandas\n",
    "# pip install seaborn"
   ]
  },
  {
   "cell_type": "code",
   "execution_count": 2,
   "id": "f33f8485",
   "metadata": {
    "execution": {
     "iopub.execute_input": "2023-02-04T16:08:35.293554Z",
     "iopub.status.busy": "2023-02-04T16:08:35.292843Z",
     "iopub.status.idle": "2023-02-04T16:08:44.936682Z",
     "shell.execute_reply": "2023-02-04T16:08:44.937175Z",
     "shell.execute_reply.started": "2023-02-04T16:00:02.528674Z"
    },
    "papermill": {
     "duration": 9.703034,
     "end_time": "2023-02-04T16:08:44.937371",
     "exception": false,
     "start_time": "2023-02-04T16:08:35.234337",
     "status": "completed"
    },
    "tags": []
   },
   "outputs": [
    {
     "name": "stdout",
     "output_type": "stream",
     "text": [
      "Requirement already satisfied: scikit-learn in c:\\users\\rushkesh\\anaconda3\\lib\\site-packages (0.24.2)\n",
      "Requirement already satisfied: scipy>=0.19.1 in c:\\users\\rushkesh\\anaconda3\\lib\\site-packages (from scikit-learn) (1.7.1)\n",
      "Requirement already satisfied: numpy>=1.13.3 in c:\\users\\rushkesh\\anaconda3\\lib\\site-packages (from scikit-learn) (1.22.4)\n",
      "Requirement already satisfied: joblib>=0.11 in c:\\users\\rushkesh\\anaconda3\\lib\\site-packages (from scikit-learn) (1.1.0)\n",
      "Requirement already satisfied: threadpoolctl>=2.0.0 in c:\\users\\rushkesh\\anaconda3\\lib\\site-packages (from scikit-learn) (2.2.0)\n",
      "Note: you may need to restart the kernel to use updated packages.\n"
     ]
    }
   ],
   "source": [
    "pip install scikit-learn"
   ]
  },
  {
   "cell_type": "code",
   "execution_count": 3,
   "id": "0ece94a9",
   "metadata": {
    "execution": {
     "iopub.execute_input": "2023-02-04T16:08:45.050407Z",
     "iopub.status.busy": "2023-02-04T16:08:45.049586Z",
     "iopub.status.idle": "2023-02-04T16:08:46.316206Z",
     "shell.execute_reply": "2023-02-04T16:08:46.317035Z",
     "shell.execute_reply.started": "2023-02-04T16:00:11.360696Z"
    },
    "papermill": {
     "duration": 1.327545,
     "end_time": "2023-02-04T16:08:46.317312",
     "exception": false,
     "start_time": "2023-02-04T16:08:44.989767",
     "status": "completed"
    },
    "tags": []
   },
   "outputs": [],
   "source": [
    "import numpy as np          # for numerical python\n",
    "import pandas as pd           #for manupulation data\n",
    "import seaborn as sns         # for visualization\n",
    "import matplotlib.pyplot as plt # for visualization\n",
    "%matplotlib inline\n",
    "from sklearn.ensemble import ExtraTreesRegressor\n",
    "from sklearn.ensemble import RandomForestRegressor  # for feature importance\n",
    "import pickle"
   ]
  },
  {
   "cell_type": "markdown",
   "id": "643cd5ca",
   "metadata": {
    "papermill": {
     "duration": 0.051824,
     "end_time": "2023-02-04T16:08:46.428393",
     "exception": false,
     "start_time": "2023-02-04T16:08:46.376569",
     "status": "completed"
    },
    "tags": []
   },
   "source": [
    "### 2.Load Data"
   ]
  },
  {
   "cell_type": "code",
   "execution_count": 5,
   "id": "ee5364f5",
   "metadata": {
    "execution": {
     "iopub.execute_input": "2023-02-04T16:08:46.540337Z",
     "iopub.status.busy": "2023-02-04T16:08:46.539328Z",
     "iopub.status.idle": "2023-02-04T16:08:46.563503Z",
     "shell.execute_reply": "2023-02-04T16:08:46.562853Z",
     "shell.execute_reply.started": "2023-02-04T16:00:37.327314Z"
    },
    "papermill": {
     "duration": 0.079264,
     "end_time": "2023-02-04T16:08:46.563664",
     "exception": false,
     "start_time": "2023-02-04T16:08:46.484400",
     "status": "completed"
    },
    "tags": []
   },
   "outputs": [],
   "source": [
    "car = pd.read_csv(\"C:\\\\Users\\\\Rushkesh\\\\OneDrive\\\\Desktop\\\\Oasis\\\\car data.csv\")"
   ]
  },
  {
   "cell_type": "code",
   "execution_count": 6,
   "id": "0e703cf1",
   "metadata": {
    "execution": {
     "iopub.execute_input": "2023-02-04T16:08:46.679914Z",
     "iopub.status.busy": "2023-02-04T16:08:46.678856Z",
     "iopub.status.idle": "2023-02-04T16:08:46.696876Z",
     "shell.execute_reply": "2023-02-04T16:08:46.696303Z",
     "shell.execute_reply.started": "2023-02-04T16:00:40.407391Z"
    },
    "papermill": {
     "duration": 0.080705,
     "end_time": "2023-02-04T16:08:46.697025",
     "exception": false,
     "start_time": "2023-02-04T16:08:46.616320",
     "status": "completed"
    },
    "tags": []
   },
   "outputs": [
    {
     "data": {
      "text/html": [
       "<div>\n",
       "<style scoped>\n",
       "    .dataframe tbody tr th:only-of-type {\n",
       "        vertical-align: middle;\n",
       "    }\n",
       "\n",
       "    .dataframe tbody tr th {\n",
       "        vertical-align: top;\n",
       "    }\n",
       "\n",
       "    .dataframe thead th {\n",
       "        text-align: right;\n",
       "    }\n",
       "</style>\n",
       "<table border=\"1\" class=\"dataframe\">\n",
       "  <thead>\n",
       "    <tr style=\"text-align: right;\">\n",
       "      <th></th>\n",
       "      <th>Car_Name</th>\n",
       "      <th>Year</th>\n",
       "      <th>Selling_Price</th>\n",
       "      <th>Present_Price</th>\n",
       "      <th>Kms_Driven</th>\n",
       "      <th>Fuel_Type</th>\n",
       "      <th>Seller_Type</th>\n",
       "      <th>Transmission</th>\n",
       "      <th>Owner</th>\n",
       "    </tr>\n",
       "  </thead>\n",
       "  <tbody>\n",
       "    <tr>\n",
       "      <th>0</th>\n",
       "      <td>ritz</td>\n",
       "      <td>2014</td>\n",
       "      <td>3.35</td>\n",
       "      <td>5.59</td>\n",
       "      <td>27000</td>\n",
       "      <td>Petrol</td>\n",
       "      <td>Dealer</td>\n",
       "      <td>Manual</td>\n",
       "      <td>0</td>\n",
       "    </tr>\n",
       "    <tr>\n",
       "      <th>1</th>\n",
       "      <td>sx4</td>\n",
       "      <td>2013</td>\n",
       "      <td>4.75</td>\n",
       "      <td>9.54</td>\n",
       "      <td>43000</td>\n",
       "      <td>Diesel</td>\n",
       "      <td>Dealer</td>\n",
       "      <td>Manual</td>\n",
       "      <td>0</td>\n",
       "    </tr>\n",
       "    <tr>\n",
       "      <th>2</th>\n",
       "      <td>ciaz</td>\n",
       "      <td>2017</td>\n",
       "      <td>7.25</td>\n",
       "      <td>9.85</td>\n",
       "      <td>6900</td>\n",
       "      <td>Petrol</td>\n",
       "      <td>Dealer</td>\n",
       "      <td>Manual</td>\n",
       "      <td>0</td>\n",
       "    </tr>\n",
       "    <tr>\n",
       "      <th>3</th>\n",
       "      <td>wagon r</td>\n",
       "      <td>2011</td>\n",
       "      <td>2.85</td>\n",
       "      <td>4.15</td>\n",
       "      <td>5200</td>\n",
       "      <td>Petrol</td>\n",
       "      <td>Dealer</td>\n",
       "      <td>Manual</td>\n",
       "      <td>0</td>\n",
       "    </tr>\n",
       "    <tr>\n",
       "      <th>4</th>\n",
       "      <td>swift</td>\n",
       "      <td>2014</td>\n",
       "      <td>4.60</td>\n",
       "      <td>6.87</td>\n",
       "      <td>42450</td>\n",
       "      <td>Diesel</td>\n",
       "      <td>Dealer</td>\n",
       "      <td>Manual</td>\n",
       "      <td>0</td>\n",
       "    </tr>\n",
       "  </tbody>\n",
       "</table>\n",
       "</div>"
      ],
      "text/plain": [
       "  Car_Name  Year  Selling_Price  Present_Price  Kms_Driven Fuel_Type  \\\n",
       "0     ritz  2014           3.35           5.59       27000    Petrol   \n",
       "1      sx4  2013           4.75           9.54       43000    Diesel   \n",
       "2     ciaz  2017           7.25           9.85        6900    Petrol   \n",
       "3  wagon r  2011           2.85           4.15        5200    Petrol   \n",
       "4    swift  2014           4.60           6.87       42450    Diesel   \n",
       "\n",
       "  Seller_Type Transmission  Owner  \n",
       "0      Dealer       Manual      0  \n",
       "1      Dealer       Manual      0  \n",
       "2      Dealer       Manual      0  \n",
       "3      Dealer       Manual      0  \n",
       "4      Dealer       Manual      0  "
      ]
     },
     "execution_count": 6,
     "metadata": {},
     "output_type": "execute_result"
    }
   ],
   "source": [
    "car.head() # load data"
   ]
  },
  {
   "cell_type": "markdown",
   "id": "8f1cd362",
   "metadata": {
    "execution": {
     "iopub.execute_input": "2021-10-08T09:08:06.027558Z",
     "iopub.status.busy": "2021-10-08T09:08:06.02702Z",
     "iopub.status.idle": "2021-10-08T09:08:06.031918Z",
     "shell.execute_reply": "2021-10-08T09:08:06.031119Z",
     "shell.execute_reply.started": "2021-10-08T09:08:06.027516Z"
    },
    "papermill": {
     "duration": 0.05541,
     "end_time": "2023-02-04T16:08:46.805421",
     "exception": false,
     "start_time": "2023-02-04T16:08:46.750011",
     "status": "completed"
    },
    "tags": []
   },
   "source": [
    "#### Shape of Data"
   ]
  },
  {
   "cell_type": "code",
   "execution_count": 7,
   "id": "2ade82d3",
   "metadata": {
    "execution": {
     "iopub.execute_input": "2023-02-04T16:08:46.916484Z",
     "iopub.status.busy": "2023-02-04T16:08:46.915613Z",
     "iopub.status.idle": "2023-02-04T16:08:46.919492Z",
     "shell.execute_reply": "2023-02-04T16:08:46.918839Z",
     "shell.execute_reply.started": "2023-02-04T16:00:44.854893Z"
    },
    "papermill": {
     "duration": 0.062062,
     "end_time": "2023-02-04T16:08:46.919640",
     "exception": false,
     "start_time": "2023-02-04T16:08:46.857578",
     "status": "completed"
    },
    "tags": []
   },
   "outputs": [
    {
     "data": {
      "text/plain": [
       "(301, 9)"
      ]
     },
     "execution_count": 7,
     "metadata": {},
     "output_type": "execute_result"
    }
   ],
   "source": [
    "car.shape # to shows no. of rows and feature"
   ]
  },
  {
   "cell_type": "markdown",
   "id": "44c319c7",
   "metadata": {
    "papermill": {
     "duration": 0.051948,
     "end_time": "2023-02-04T16:08:47.023633",
     "exception": false,
     "start_time": "2023-02-04T16:08:46.971685",
     "status": "completed"
    },
    "tags": []
   },
   "source": [
    "- There are 301 rows and 9 features in this dataset"
   ]
  },
  {
   "cell_type": "code",
   "execution_count": 8,
   "id": "eeaacb05",
   "metadata": {
    "execution": {
     "iopub.execute_input": "2023-02-04T16:08:47.140971Z",
     "iopub.status.busy": "2023-02-04T16:08:47.140269Z",
     "iopub.status.idle": "2023-02-04T16:08:47.146296Z",
     "shell.execute_reply": "2023-02-04T16:08:47.145630Z",
     "shell.execute_reply.started": "2023-02-04T16:00:52.406623Z"
    },
    "papermill": {
     "duration": 0.070134,
     "end_time": "2023-02-04T16:08:47.146451",
     "exception": false,
     "start_time": "2023-02-04T16:08:47.076317",
     "status": "completed"
    },
    "tags": []
   },
   "outputs": [
    {
     "name": "stdout",
     "output_type": "stream",
     "text": [
      "['Dealer' 'Individual']\n",
      "['Manual' 'Automatic']\n",
      "[0 1 3]\n",
      "['Petrol' 'Diesel' 'CNG']\n"
     ]
    }
   ],
   "source": [
    "# checking unique values in each columns\n",
    "\n",
    "print(car['Seller_Type'].unique())\n",
    "print(car['Transmission'].unique())\n",
    "print(car['Owner'].unique())\n",
    "print(car['Fuel_Type'].unique())"
   ]
  },
  {
   "cell_type": "markdown",
   "id": "7f05522d",
   "metadata": {
    "papermill": {
     "duration": 0.053742,
     "end_time": "2023-02-04T16:08:47.253017",
     "exception": false,
     "start_time": "2023-02-04T16:08:47.199275",
     "status": "completed"
    },
    "tags": []
   },
   "source": [
    "#### Looking for summary"
   ]
  },
  {
   "cell_type": "code",
   "execution_count": 9,
   "id": "c95621e3",
   "metadata": {
    "execution": {
     "iopub.execute_input": "2023-02-04T16:08:47.366889Z",
     "iopub.status.busy": "2023-02-04T16:08:47.366045Z",
     "iopub.status.idle": "2023-02-04T16:08:47.369919Z",
     "shell.execute_reply": "2023-02-04T16:08:47.369391Z",
     "shell.execute_reply.started": "2023-02-04T16:00:56.976284Z"
    },
    "papermill": {
     "duration": 0.063424,
     "end_time": "2023-02-04T16:08:47.370069",
     "exception": false,
     "start_time": "2023-02-04T16:08:47.306645",
     "status": "completed"
    },
    "tags": []
   },
   "outputs": [
    {
     "data": {
      "text/plain": [
       "Index(['Car_Name', 'Year', 'Selling_Price', 'Present_Price', 'Kms_Driven',\n",
       "       'Fuel_Type', 'Seller_Type', 'Transmission', 'Owner'],\n",
       "      dtype='object')"
      ]
     },
     "execution_count": 9,
     "metadata": {},
     "output_type": "execute_result"
    }
   ],
   "source": [
    "# number of columns we have\n",
    "car.columns"
   ]
  },
  {
   "cell_type": "code",
   "execution_count": 10,
   "id": "3306360b",
   "metadata": {
    "execution": {
     "iopub.execute_input": "2023-02-04T16:08:47.488455Z",
     "iopub.status.busy": "2023-02-04T16:08:47.487756Z",
     "iopub.status.idle": "2023-02-04T16:08:47.500516Z",
     "shell.execute_reply": "2023-02-04T16:08:47.501071Z",
     "shell.execute_reply.started": "2023-02-04T16:01:01.562150Z"
    },
    "papermill": {
     "duration": 0.076646,
     "end_time": "2023-02-04T16:08:47.501270",
     "exception": false,
     "start_time": "2023-02-04T16:08:47.424624",
     "status": "completed"
    },
    "tags": []
   },
   "outputs": [
    {
     "name": "stdout",
     "output_type": "stream",
     "text": [
      "<class 'pandas.core.frame.DataFrame'>\n",
      "RangeIndex: 301 entries, 0 to 300\n",
      "Data columns (total 9 columns):\n",
      " #   Column         Non-Null Count  Dtype  \n",
      "---  ------         --------------  -----  \n",
      " 0   Car_Name       301 non-null    object \n",
      " 1   Year           301 non-null    int64  \n",
      " 2   Selling_Price  301 non-null    float64\n",
      " 3   Present_Price  301 non-null    float64\n",
      " 4   Kms_Driven     301 non-null    int64  \n",
      " 5   Fuel_Type      301 non-null    object \n",
      " 6   Seller_Type    301 non-null    object \n",
      " 7   Transmission   301 non-null    object \n",
      " 8   Owner          301 non-null    int64  \n",
      "dtypes: float64(2), int64(3), object(4)\n",
      "memory usage: 21.3+ KB\n"
     ]
    }
   ],
   "source": [
    " car.info()         # for shows information of dataset"
   ]
  },
  {
   "cell_type": "markdown",
   "id": "2aea2b35",
   "metadata": {
    "papermill": {
     "duration": 0.053414,
     "end_time": "2023-02-04T16:08:47.608336",
     "exception": false,
     "start_time": "2023-02-04T16:08:47.554922",
     "status": "completed"
    },
    "tags": []
   },
   "source": [
    "### 3.Check missing and null values"
   ]
  },
  {
   "cell_type": "code",
   "execution_count": 11,
   "id": "f9a23de6",
   "metadata": {
    "execution": {
     "iopub.execute_input": "2023-02-04T16:08:47.720744Z",
     "iopub.status.busy": "2023-02-04T16:08:47.719630Z",
     "iopub.status.idle": "2023-02-04T16:08:47.731913Z",
     "shell.execute_reply": "2023-02-04T16:08:47.731291Z",
     "shell.execute_reply.started": "2023-02-04T16:01:05.306058Z"
    },
    "papermill": {
     "duration": 0.069586,
     "end_time": "2023-02-04T16:08:47.732065",
     "exception": false,
     "start_time": "2023-02-04T16:08:47.662479",
     "status": "completed"
    },
    "tags": []
   },
   "outputs": [
    {
     "data": {
      "text/plain": [
       "Car_Name         0\n",
       "Year             0\n",
       "Selling_Price    0\n",
       "Present_Price    0\n",
       "Kms_Driven       0\n",
       "Fuel_Type        0\n",
       "Seller_Type      0\n",
       "Transmission     0\n",
       "Owner            0\n",
       "dtype: int64"
      ]
     },
     "execution_count": 11,
     "metadata": {},
     "output_type": "execute_result"
    }
   ],
   "source": [
    "car.isnull().sum() # for count the number of missing values"
   ]
  },
  {
   "cell_type": "markdown",
   "id": "a0820091",
   "metadata": {
    "papermill": {
     "duration": 0.073902,
     "end_time": "2023-02-04T16:08:47.865311",
     "exception": false,
     "start_time": "2023-02-04T16:08:47.791409",
     "status": "completed"
    },
    "tags": []
   },
   "source": [
    "#### Here no null values present in our data"
   ]
  },
  {
   "cell_type": "code",
   "execution_count": 12,
   "id": "d9665ad9",
   "metadata": {
    "execution": {
     "iopub.execute_input": "2023-02-04T16:08:47.982271Z",
     "iopub.status.busy": "2023-02-04T16:08:47.981217Z",
     "iopub.status.idle": "2023-02-04T16:08:48.003631Z",
     "shell.execute_reply": "2023-02-04T16:08:48.004374Z",
     "shell.execute_reply.started": "2023-02-04T16:01:08.885781Z"
    },
    "papermill": {
     "duration": 0.084094,
     "end_time": "2023-02-04T16:08:48.004580",
     "exception": false,
     "start_time": "2023-02-04T16:08:47.920486",
     "status": "completed"
    },
    "tags": []
   },
   "outputs": [
    {
     "data": {
      "text/html": [
       "<div>\n",
       "<style scoped>\n",
       "    .dataframe tbody tr th:only-of-type {\n",
       "        vertical-align: middle;\n",
       "    }\n",
       "\n",
       "    .dataframe tbody tr th {\n",
       "        vertical-align: top;\n",
       "    }\n",
       "\n",
       "    .dataframe thead th {\n",
       "        text-align: right;\n",
       "    }\n",
       "</style>\n",
       "<table border=\"1\" class=\"dataframe\">\n",
       "  <thead>\n",
       "    <tr style=\"text-align: right;\">\n",
       "      <th></th>\n",
       "      <th>Year</th>\n",
       "      <th>Selling_Price</th>\n",
       "      <th>Present_Price</th>\n",
       "      <th>Kms_Driven</th>\n",
       "      <th>Owner</th>\n",
       "    </tr>\n",
       "  </thead>\n",
       "  <tbody>\n",
       "    <tr>\n",
       "      <th>count</th>\n",
       "      <td>301.000000</td>\n",
       "      <td>301.000000</td>\n",
       "      <td>301.000000</td>\n",
       "      <td>301.000000</td>\n",
       "      <td>301.000000</td>\n",
       "    </tr>\n",
       "    <tr>\n",
       "      <th>mean</th>\n",
       "      <td>2013.627907</td>\n",
       "      <td>4.661296</td>\n",
       "      <td>7.628472</td>\n",
       "      <td>36947.205980</td>\n",
       "      <td>0.043189</td>\n",
       "    </tr>\n",
       "    <tr>\n",
       "      <th>std</th>\n",
       "      <td>2.891554</td>\n",
       "      <td>5.082812</td>\n",
       "      <td>8.644115</td>\n",
       "      <td>38886.883882</td>\n",
       "      <td>0.247915</td>\n",
       "    </tr>\n",
       "    <tr>\n",
       "      <th>min</th>\n",
       "      <td>2003.000000</td>\n",
       "      <td>0.100000</td>\n",
       "      <td>0.320000</td>\n",
       "      <td>500.000000</td>\n",
       "      <td>0.000000</td>\n",
       "    </tr>\n",
       "    <tr>\n",
       "      <th>25%</th>\n",
       "      <td>2012.000000</td>\n",
       "      <td>0.900000</td>\n",
       "      <td>1.200000</td>\n",
       "      <td>15000.000000</td>\n",
       "      <td>0.000000</td>\n",
       "    </tr>\n",
       "    <tr>\n",
       "      <th>50%</th>\n",
       "      <td>2014.000000</td>\n",
       "      <td>3.600000</td>\n",
       "      <td>6.400000</td>\n",
       "      <td>32000.000000</td>\n",
       "      <td>0.000000</td>\n",
       "    </tr>\n",
       "    <tr>\n",
       "      <th>75%</th>\n",
       "      <td>2016.000000</td>\n",
       "      <td>6.000000</td>\n",
       "      <td>9.900000</td>\n",
       "      <td>48767.000000</td>\n",
       "      <td>0.000000</td>\n",
       "    </tr>\n",
       "    <tr>\n",
       "      <th>max</th>\n",
       "      <td>2018.000000</td>\n",
       "      <td>35.000000</td>\n",
       "      <td>92.600000</td>\n",
       "      <td>500000.000000</td>\n",
       "      <td>3.000000</td>\n",
       "    </tr>\n",
       "  </tbody>\n",
       "</table>\n",
       "</div>"
      ],
      "text/plain": [
       "              Year  Selling_Price  Present_Price     Kms_Driven       Owner\n",
       "count   301.000000     301.000000     301.000000     301.000000  301.000000\n",
       "mean   2013.627907       4.661296       7.628472   36947.205980    0.043189\n",
       "std       2.891554       5.082812       8.644115   38886.883882    0.247915\n",
       "min    2003.000000       0.100000       0.320000     500.000000    0.000000\n",
       "25%    2012.000000       0.900000       1.200000   15000.000000    0.000000\n",
       "50%    2014.000000       3.600000       6.400000   32000.000000    0.000000\n",
       "75%    2016.000000       6.000000       9.900000   48767.000000    0.000000\n",
       "max    2018.000000      35.000000      92.600000  500000.000000    3.000000"
      ]
     },
     "execution_count": 12,
     "metadata": {},
     "output_type": "execute_result"
    }
   ],
   "source": [
    "car.describe() # statistical features"
   ]
  },
  {
   "cell_type": "markdown",
   "id": "24e5a8be",
   "metadata": {
    "papermill": {
     "duration": 0.05423,
     "end_time": "2023-02-04T16:08:48.114150",
     "exception": false,
     "start_time": "2023-02-04T16:08:48.059920",
     "status": "completed"
    },
    "tags": []
   },
   "source": [
    "### 4.Data Exploration"
   ]
  },
  {
   "cell_type": "code",
   "execution_count": 13,
   "id": "962b2041",
   "metadata": {
    "execution": {
     "iopub.execute_input": "2023-02-04T16:08:48.231992Z",
     "iopub.status.busy": "2023-02-04T16:08:48.230906Z",
     "iopub.status.idle": "2023-02-04T16:08:48.242768Z",
     "shell.execute_reply": "2023-02-04T16:08:48.243555Z",
     "shell.execute_reply.started": "2023-02-04T16:01:12.085814Z"
    },
    "papermill": {
     "duration": 0.075192,
     "end_time": "2023-02-04T16:08:48.243777",
     "exception": false,
     "start_time": "2023-02-04T16:08:48.168585",
     "status": "completed"
    },
    "tags": []
   },
   "outputs": [
    {
     "data": {
      "text/html": [
       "<div>\n",
       "<style scoped>\n",
       "    .dataframe tbody tr th:only-of-type {\n",
       "        vertical-align: middle;\n",
       "    }\n",
       "\n",
       "    .dataframe tbody tr th {\n",
       "        vertical-align: top;\n",
       "    }\n",
       "\n",
       "    .dataframe thead th {\n",
       "        text-align: right;\n",
       "    }\n",
       "</style>\n",
       "<table border=\"1\" class=\"dataframe\">\n",
       "  <thead>\n",
       "    <tr style=\"text-align: right;\">\n",
       "      <th></th>\n",
       "      <th>Year</th>\n",
       "      <th>Selling_Price</th>\n",
       "      <th>Present_Price</th>\n",
       "      <th>Kms_Driven</th>\n",
       "      <th>Fuel_Type</th>\n",
       "      <th>Seller_Type</th>\n",
       "      <th>Transmission</th>\n",
       "      <th>Owner</th>\n",
       "    </tr>\n",
       "  </thead>\n",
       "  <tbody>\n",
       "    <tr>\n",
       "      <th>0</th>\n",
       "      <td>2014</td>\n",
       "      <td>3.35</td>\n",
       "      <td>5.59</td>\n",
       "      <td>27000</td>\n",
       "      <td>Petrol</td>\n",
       "      <td>Dealer</td>\n",
       "      <td>Manual</td>\n",
       "      <td>0</td>\n",
       "    </tr>\n",
       "    <tr>\n",
       "      <th>1</th>\n",
       "      <td>2013</td>\n",
       "      <td>4.75</td>\n",
       "      <td>9.54</td>\n",
       "      <td>43000</td>\n",
       "      <td>Diesel</td>\n",
       "      <td>Dealer</td>\n",
       "      <td>Manual</td>\n",
       "      <td>0</td>\n",
       "    </tr>\n",
       "    <tr>\n",
       "      <th>2</th>\n",
       "      <td>2017</td>\n",
       "      <td>7.25</td>\n",
       "      <td>9.85</td>\n",
       "      <td>6900</td>\n",
       "      <td>Petrol</td>\n",
       "      <td>Dealer</td>\n",
       "      <td>Manual</td>\n",
       "      <td>0</td>\n",
       "    </tr>\n",
       "    <tr>\n",
       "      <th>3</th>\n",
       "      <td>2011</td>\n",
       "      <td>2.85</td>\n",
       "      <td>4.15</td>\n",
       "      <td>5200</td>\n",
       "      <td>Petrol</td>\n",
       "      <td>Dealer</td>\n",
       "      <td>Manual</td>\n",
       "      <td>0</td>\n",
       "    </tr>\n",
       "    <tr>\n",
       "      <th>4</th>\n",
       "      <td>2014</td>\n",
       "      <td>4.60</td>\n",
       "      <td>6.87</td>\n",
       "      <td>42450</td>\n",
       "      <td>Diesel</td>\n",
       "      <td>Dealer</td>\n",
       "      <td>Manual</td>\n",
       "      <td>0</td>\n",
       "    </tr>\n",
       "  </tbody>\n",
       "</table>\n",
       "</div>"
      ],
      "text/plain": [
       "   Year  Selling_Price  Present_Price  Kms_Driven Fuel_Type Seller_Type  \\\n",
       "0  2014           3.35           5.59       27000    Petrol      Dealer   \n",
       "1  2013           4.75           9.54       43000    Diesel      Dealer   \n",
       "2  2017           7.25           9.85        6900    Petrol      Dealer   \n",
       "3  2011           2.85           4.15        5200    Petrol      Dealer   \n",
       "4  2014           4.60           6.87       42450    Diesel      Dealer   \n",
       "\n",
       "  Transmission  Owner  \n",
       "0       Manual      0  \n",
       "1       Manual      0  \n",
       "2       Manual      0  \n",
       "3       Manual      0  \n",
       "4       Manual      0  "
      ]
     },
     "execution_count": 13,
     "metadata": {},
     "output_type": "execute_result"
    }
   ],
   "source": [
    "#Create new dataframe with skipe car-name\n",
    "car_dataset = car[['Year', 'Selling_Price', 'Present_Price', 'Kms_Driven',\n",
    "       'Fuel_Type', 'Seller_Type', 'Transmission', 'Owner']]\n",
    "\n",
    "car_dataset.head()"
   ]
  },
  {
   "cell_type": "markdown",
   "id": "f7ee67b2",
   "metadata": {
    "papermill": {
     "duration": 0.056097,
     "end_time": "2023-02-04T16:08:48.356746",
     "exception": false,
     "start_time": "2023-02-04T16:08:48.300649",
     "status": "completed"
    },
    "tags": []
   },
   "source": [
    "### create new feature to know how many years is car old\n",
    "### Add Current_year = '2023' column"
   ]
  },
  {
   "cell_type": "code",
   "execution_count": 14,
   "id": "3fe6c26d",
   "metadata": {
    "execution": {
     "iopub.execute_input": "2023-02-04T16:08:48.474040Z",
     "iopub.status.busy": "2023-02-04T16:08:48.471378Z",
     "iopub.status.idle": "2023-02-04T16:08:48.475879Z",
     "shell.execute_reply": "2023-02-04T16:08:48.476467Z",
     "shell.execute_reply.started": "2023-02-04T16:01:28.226668Z"
    },
    "papermill": {
     "duration": 0.064611,
     "end_time": "2023-02-04T16:08:48.476668",
     "exception": false,
     "start_time": "2023-02-04T16:08:48.412057",
     "status": "completed"
    },
    "tags": []
   },
   "outputs": [],
   "source": [
    "car_dataset['Current_year']=2023"
   ]
  },
  {
   "cell_type": "code",
   "execution_count": 15,
   "id": "ab452531",
   "metadata": {
    "execution": {
     "iopub.execute_input": "2023-02-04T16:08:48.591057Z",
     "iopub.status.busy": "2023-02-04T16:08:48.590424Z",
     "iopub.status.idle": "2023-02-04T16:08:48.602908Z",
     "shell.execute_reply": "2023-02-04T16:08:48.603470Z",
     "shell.execute_reply.started": "2023-02-04T16:01:30.477068Z"
    },
    "papermill": {
     "duration": 0.071796,
     "end_time": "2023-02-04T16:08:48.603646",
     "exception": false,
     "start_time": "2023-02-04T16:08:48.531850",
     "status": "completed"
    },
    "tags": []
   },
   "outputs": [
    {
     "data": {
      "text/html": [
       "<div>\n",
       "<style scoped>\n",
       "    .dataframe tbody tr th:only-of-type {\n",
       "        vertical-align: middle;\n",
       "    }\n",
       "\n",
       "    .dataframe tbody tr th {\n",
       "        vertical-align: top;\n",
       "    }\n",
       "\n",
       "    .dataframe thead th {\n",
       "        text-align: right;\n",
       "    }\n",
       "</style>\n",
       "<table border=\"1\" class=\"dataframe\">\n",
       "  <thead>\n",
       "    <tr style=\"text-align: right;\">\n",
       "      <th></th>\n",
       "      <th>Year</th>\n",
       "      <th>Selling_Price</th>\n",
       "      <th>Present_Price</th>\n",
       "      <th>Kms_Driven</th>\n",
       "      <th>Fuel_Type</th>\n",
       "      <th>Seller_Type</th>\n",
       "      <th>Transmission</th>\n",
       "      <th>Owner</th>\n",
       "      <th>Current_year</th>\n",
       "    </tr>\n",
       "  </thead>\n",
       "  <tbody>\n",
       "    <tr>\n",
       "      <th>0</th>\n",
       "      <td>2014</td>\n",
       "      <td>3.35</td>\n",
       "      <td>5.59</td>\n",
       "      <td>27000</td>\n",
       "      <td>Petrol</td>\n",
       "      <td>Dealer</td>\n",
       "      <td>Manual</td>\n",
       "      <td>0</td>\n",
       "      <td>2023</td>\n",
       "    </tr>\n",
       "    <tr>\n",
       "      <th>1</th>\n",
       "      <td>2013</td>\n",
       "      <td>4.75</td>\n",
       "      <td>9.54</td>\n",
       "      <td>43000</td>\n",
       "      <td>Diesel</td>\n",
       "      <td>Dealer</td>\n",
       "      <td>Manual</td>\n",
       "      <td>0</td>\n",
       "      <td>2023</td>\n",
       "    </tr>\n",
       "    <tr>\n",
       "      <th>2</th>\n",
       "      <td>2017</td>\n",
       "      <td>7.25</td>\n",
       "      <td>9.85</td>\n",
       "      <td>6900</td>\n",
       "      <td>Petrol</td>\n",
       "      <td>Dealer</td>\n",
       "      <td>Manual</td>\n",
       "      <td>0</td>\n",
       "      <td>2023</td>\n",
       "    </tr>\n",
       "    <tr>\n",
       "      <th>3</th>\n",
       "      <td>2011</td>\n",
       "      <td>2.85</td>\n",
       "      <td>4.15</td>\n",
       "      <td>5200</td>\n",
       "      <td>Petrol</td>\n",
       "      <td>Dealer</td>\n",
       "      <td>Manual</td>\n",
       "      <td>0</td>\n",
       "      <td>2023</td>\n",
       "    </tr>\n",
       "    <tr>\n",
       "      <th>4</th>\n",
       "      <td>2014</td>\n",
       "      <td>4.60</td>\n",
       "      <td>6.87</td>\n",
       "      <td>42450</td>\n",
       "      <td>Diesel</td>\n",
       "      <td>Dealer</td>\n",
       "      <td>Manual</td>\n",
       "      <td>0</td>\n",
       "      <td>2023</td>\n",
       "    </tr>\n",
       "  </tbody>\n",
       "</table>\n",
       "</div>"
      ],
      "text/plain": [
       "   Year  Selling_Price  Present_Price  Kms_Driven Fuel_Type Seller_Type  \\\n",
       "0  2014           3.35           5.59       27000    Petrol      Dealer   \n",
       "1  2013           4.75           9.54       43000    Diesel      Dealer   \n",
       "2  2017           7.25           9.85        6900    Petrol      Dealer   \n",
       "3  2011           2.85           4.15        5200    Petrol      Dealer   \n",
       "4  2014           4.60           6.87       42450    Diesel      Dealer   \n",
       "\n",
       "  Transmission  Owner  Current_year  \n",
       "0       Manual      0          2023  \n",
       "1       Manual      0          2023  \n",
       "2       Manual      0          2023  \n",
       "3       Manual      0          2023  \n",
       "4       Manual      0          2023  "
      ]
     },
     "execution_count": 15,
     "metadata": {},
     "output_type": "execute_result"
    }
   ],
   "source": [
    "car_dataset.head()"
   ]
  },
  {
   "cell_type": "markdown",
   "id": "bcaed9af",
   "metadata": {
    "papermill": {
     "duration": 0.054848,
     "end_time": "2023-02-04T16:08:48.715144",
     "exception": false,
     "start_time": "2023-02-04T16:08:48.660296",
     "status": "completed"
    },
    "tags": []
   },
   "source": [
    "#### Add new column Number of year column = Current_year - Year"
   ]
  },
  {
   "cell_type": "code",
   "execution_count": 16,
   "id": "ca18b7a0",
   "metadata": {
    "execution": {
     "iopub.execute_input": "2023-02-04T16:08:48.834055Z",
     "iopub.status.busy": "2023-02-04T16:08:48.833380Z",
     "iopub.status.idle": "2023-02-04T16:08:48.845993Z",
     "shell.execute_reply": "2023-02-04T16:08:48.845466Z",
     "shell.execute_reply.started": "2023-02-04T16:00:12.893865Z"
    },
    "papermill": {
     "duration": 0.074667,
     "end_time": "2023-02-04T16:08:48.846188",
     "exception": false,
     "start_time": "2023-02-04T16:08:48.771521",
     "status": "completed"
    },
    "tags": []
   },
   "outputs": [
    {
     "data": {
      "text/html": [
       "<div>\n",
       "<style scoped>\n",
       "    .dataframe tbody tr th:only-of-type {\n",
       "        vertical-align: middle;\n",
       "    }\n",
       "\n",
       "    .dataframe tbody tr th {\n",
       "        vertical-align: top;\n",
       "    }\n",
       "\n",
       "    .dataframe thead th {\n",
       "        text-align: right;\n",
       "    }\n",
       "</style>\n",
       "<table border=\"1\" class=\"dataframe\">\n",
       "  <thead>\n",
       "    <tr style=\"text-align: right;\">\n",
       "      <th></th>\n",
       "      <th>Year</th>\n",
       "      <th>Selling_Price</th>\n",
       "      <th>Present_Price</th>\n",
       "      <th>Kms_Driven</th>\n",
       "      <th>Fuel_Type</th>\n",
       "      <th>Seller_Type</th>\n",
       "      <th>Transmission</th>\n",
       "      <th>Owner</th>\n",
       "      <th>Current_year</th>\n",
       "      <th>No.of_year</th>\n",
       "    </tr>\n",
       "  </thead>\n",
       "  <tbody>\n",
       "    <tr>\n",
       "      <th>0</th>\n",
       "      <td>2014</td>\n",
       "      <td>3.35</td>\n",
       "      <td>5.59</td>\n",
       "      <td>27000</td>\n",
       "      <td>Petrol</td>\n",
       "      <td>Dealer</td>\n",
       "      <td>Manual</td>\n",
       "      <td>0</td>\n",
       "      <td>2023</td>\n",
       "      <td>9</td>\n",
       "    </tr>\n",
       "    <tr>\n",
       "      <th>1</th>\n",
       "      <td>2013</td>\n",
       "      <td>4.75</td>\n",
       "      <td>9.54</td>\n",
       "      <td>43000</td>\n",
       "      <td>Diesel</td>\n",
       "      <td>Dealer</td>\n",
       "      <td>Manual</td>\n",
       "      <td>0</td>\n",
       "      <td>2023</td>\n",
       "      <td>10</td>\n",
       "    </tr>\n",
       "    <tr>\n",
       "      <th>2</th>\n",
       "      <td>2017</td>\n",
       "      <td>7.25</td>\n",
       "      <td>9.85</td>\n",
       "      <td>6900</td>\n",
       "      <td>Petrol</td>\n",
       "      <td>Dealer</td>\n",
       "      <td>Manual</td>\n",
       "      <td>0</td>\n",
       "      <td>2023</td>\n",
       "      <td>6</td>\n",
       "    </tr>\n",
       "    <tr>\n",
       "      <th>3</th>\n",
       "      <td>2011</td>\n",
       "      <td>2.85</td>\n",
       "      <td>4.15</td>\n",
       "      <td>5200</td>\n",
       "      <td>Petrol</td>\n",
       "      <td>Dealer</td>\n",
       "      <td>Manual</td>\n",
       "      <td>0</td>\n",
       "      <td>2023</td>\n",
       "      <td>12</td>\n",
       "    </tr>\n",
       "    <tr>\n",
       "      <th>4</th>\n",
       "      <td>2014</td>\n",
       "      <td>4.60</td>\n",
       "      <td>6.87</td>\n",
       "      <td>42450</td>\n",
       "      <td>Diesel</td>\n",
       "      <td>Dealer</td>\n",
       "      <td>Manual</td>\n",
       "      <td>0</td>\n",
       "      <td>2023</td>\n",
       "      <td>9</td>\n",
       "    </tr>\n",
       "  </tbody>\n",
       "</table>\n",
       "</div>"
      ],
      "text/plain": [
       "   Year  Selling_Price  Present_Price  Kms_Driven Fuel_Type Seller_Type  \\\n",
       "0  2014           3.35           5.59       27000    Petrol      Dealer   \n",
       "1  2013           4.75           9.54       43000    Diesel      Dealer   \n",
       "2  2017           7.25           9.85        6900    Petrol      Dealer   \n",
       "3  2011           2.85           4.15        5200    Petrol      Dealer   \n",
       "4  2014           4.60           6.87       42450    Diesel      Dealer   \n",
       "\n",
       "  Transmission  Owner  Current_year  No.of_year  \n",
       "0       Manual      0          2023           9  \n",
       "1       Manual      0          2023          10  \n",
       "2       Manual      0          2023           6  \n",
       "3       Manual      0          2023          12  \n",
       "4       Manual      0          2023           9  "
      ]
     },
     "execution_count": 16,
     "metadata": {},
     "output_type": "execute_result"
    }
   ],
   "source": [
    "car_dataset['No.of_year'] = car_dataset['Current_year'] - car_dataset['Year']\n",
    "car_dataset.head()"
   ]
  },
  {
   "cell_type": "markdown",
   "id": "2351e3c1",
   "metadata": {
    "papermill": {
     "duration": 0.057438,
     "end_time": "2023-02-04T16:08:48.960439",
     "exception": false,
     "start_time": "2023-02-04T16:08:48.903001",
     "status": "completed"
    },
    "tags": []
   },
   "source": [
    "#### Delete 'Year' column: no neet this featurs"
   ]
  },
  {
   "cell_type": "code",
   "execution_count": 17,
   "id": "ee506b42",
   "metadata": {
    "execution": {
     "iopub.execute_input": "2023-02-04T16:08:49.076458Z",
     "iopub.status.busy": "2023-02-04T16:08:49.075473Z",
     "iopub.status.idle": "2023-02-04T16:08:49.091866Z",
     "shell.execute_reply": "2023-02-04T16:08:49.091173Z",
     "shell.execute_reply.started": "2023-02-04T16:01:37.106857Z"
    },
    "papermill": {
     "duration": 0.075805,
     "end_time": "2023-02-04T16:08:49.092019",
     "exception": false,
     "start_time": "2023-02-04T16:08:49.016214",
     "status": "completed"
    },
    "tags": []
   },
   "outputs": [
    {
     "data": {
      "text/html": [
       "<div>\n",
       "<style scoped>\n",
       "    .dataframe tbody tr th:only-of-type {\n",
       "        vertical-align: middle;\n",
       "    }\n",
       "\n",
       "    .dataframe tbody tr th {\n",
       "        vertical-align: top;\n",
       "    }\n",
       "\n",
       "    .dataframe thead th {\n",
       "        text-align: right;\n",
       "    }\n",
       "</style>\n",
       "<table border=\"1\" class=\"dataframe\">\n",
       "  <thead>\n",
       "    <tr style=\"text-align: right;\">\n",
       "      <th></th>\n",
       "      <th>Selling_Price</th>\n",
       "      <th>Present_Price</th>\n",
       "      <th>Kms_Driven</th>\n",
       "      <th>Fuel_Type</th>\n",
       "      <th>Seller_Type</th>\n",
       "      <th>Transmission</th>\n",
       "      <th>Owner</th>\n",
       "      <th>Current_year</th>\n",
       "      <th>No.of_year</th>\n",
       "    </tr>\n",
       "  </thead>\n",
       "  <tbody>\n",
       "    <tr>\n",
       "      <th>0</th>\n",
       "      <td>3.35</td>\n",
       "      <td>5.59</td>\n",
       "      <td>27000</td>\n",
       "      <td>Petrol</td>\n",
       "      <td>Dealer</td>\n",
       "      <td>Manual</td>\n",
       "      <td>0</td>\n",
       "      <td>2023</td>\n",
       "      <td>9</td>\n",
       "    </tr>\n",
       "    <tr>\n",
       "      <th>1</th>\n",
       "      <td>4.75</td>\n",
       "      <td>9.54</td>\n",
       "      <td>43000</td>\n",
       "      <td>Diesel</td>\n",
       "      <td>Dealer</td>\n",
       "      <td>Manual</td>\n",
       "      <td>0</td>\n",
       "      <td>2023</td>\n",
       "      <td>10</td>\n",
       "    </tr>\n",
       "    <tr>\n",
       "      <th>2</th>\n",
       "      <td>7.25</td>\n",
       "      <td>9.85</td>\n",
       "      <td>6900</td>\n",
       "      <td>Petrol</td>\n",
       "      <td>Dealer</td>\n",
       "      <td>Manual</td>\n",
       "      <td>0</td>\n",
       "      <td>2023</td>\n",
       "      <td>6</td>\n",
       "    </tr>\n",
       "    <tr>\n",
       "      <th>3</th>\n",
       "      <td>2.85</td>\n",
       "      <td>4.15</td>\n",
       "      <td>5200</td>\n",
       "      <td>Petrol</td>\n",
       "      <td>Dealer</td>\n",
       "      <td>Manual</td>\n",
       "      <td>0</td>\n",
       "      <td>2023</td>\n",
       "      <td>12</td>\n",
       "    </tr>\n",
       "    <tr>\n",
       "      <th>4</th>\n",
       "      <td>4.60</td>\n",
       "      <td>6.87</td>\n",
       "      <td>42450</td>\n",
       "      <td>Diesel</td>\n",
       "      <td>Dealer</td>\n",
       "      <td>Manual</td>\n",
       "      <td>0</td>\n",
       "      <td>2023</td>\n",
       "      <td>9</td>\n",
       "    </tr>\n",
       "  </tbody>\n",
       "</table>\n",
       "</div>"
      ],
      "text/plain": [
       "   Selling_Price  Present_Price  Kms_Driven Fuel_Type Seller_Type  \\\n",
       "0           3.35           5.59       27000    Petrol      Dealer   \n",
       "1           4.75           9.54       43000    Diesel      Dealer   \n",
       "2           7.25           9.85        6900    Petrol      Dealer   \n",
       "3           2.85           4.15        5200    Petrol      Dealer   \n",
       "4           4.60           6.87       42450    Diesel      Dealer   \n",
       "\n",
       "  Transmission  Owner  Current_year  No.of_year  \n",
       "0       Manual      0          2023           9  \n",
       "1       Manual      0          2023          10  \n",
       "2       Manual      0          2023           6  \n",
       "3       Manual      0          2023          12  \n",
       "4       Manual      0          2023           9  "
      ]
     },
     "execution_count": 17,
     "metadata": {},
     "output_type": "execute_result"
    }
   ],
   "source": [
    "car_dataset.drop(['Year'],axis=1,inplace=True) \n",
    "car_dataset.head()"
   ]
  },
  {
   "cell_type": "markdown",
   "id": "b8eaf85c",
   "metadata": {
    "execution": {
     "iopub.execute_input": "2022-06-03T11:34:22.52714Z",
     "iopub.status.busy": "2022-06-03T11:34:22.526835Z",
     "iopub.status.idle": "2022-06-03T11:34:22.531473Z",
     "shell.execute_reply": "2022-06-03T11:34:22.530619Z",
     "shell.execute_reply.started": "2022-06-03T11:34:22.527112Z"
    },
    "papermill": {
     "duration": 0.056856,
     "end_time": "2023-02-04T16:08:49.206369",
     "exception": false,
     "start_time": "2023-02-04T16:08:49.149513",
     "status": "completed"
    },
    "tags": []
   },
   "source": [
    "#### Delete 'Current_Year' column also."
   ]
  },
  {
   "cell_type": "code",
   "execution_count": 18,
   "id": "ae613642",
   "metadata": {
    "execution": {
     "iopub.execute_input": "2023-02-04T16:08:49.334676Z",
     "iopub.status.busy": "2023-02-04T16:08:49.333991Z",
     "iopub.status.idle": "2023-02-04T16:08:49.338211Z",
     "shell.execute_reply": "2023-02-04T16:08:49.338769Z",
     "shell.execute_reply.started": "2023-02-04T16:01:41.786603Z"
    },
    "papermill": {
     "duration": 0.076003,
     "end_time": "2023-02-04T16:08:49.338953",
     "exception": false,
     "start_time": "2023-02-04T16:08:49.262950",
     "status": "completed"
    },
    "tags": []
   },
   "outputs": [
    {
     "data": {
      "text/html": [
       "<div>\n",
       "<style scoped>\n",
       "    .dataframe tbody tr th:only-of-type {\n",
       "        vertical-align: middle;\n",
       "    }\n",
       "\n",
       "    .dataframe tbody tr th {\n",
       "        vertical-align: top;\n",
       "    }\n",
       "\n",
       "    .dataframe thead th {\n",
       "        text-align: right;\n",
       "    }\n",
       "</style>\n",
       "<table border=\"1\" class=\"dataframe\">\n",
       "  <thead>\n",
       "    <tr style=\"text-align: right;\">\n",
       "      <th></th>\n",
       "      <th>Selling_Price</th>\n",
       "      <th>Present_Price</th>\n",
       "      <th>Kms_Driven</th>\n",
       "      <th>Fuel_Type</th>\n",
       "      <th>Seller_Type</th>\n",
       "      <th>Transmission</th>\n",
       "      <th>Owner</th>\n",
       "      <th>No.of_year</th>\n",
       "    </tr>\n",
       "  </thead>\n",
       "  <tbody>\n",
       "    <tr>\n",
       "      <th>0</th>\n",
       "      <td>3.35</td>\n",
       "      <td>5.59</td>\n",
       "      <td>27000</td>\n",
       "      <td>Petrol</td>\n",
       "      <td>Dealer</td>\n",
       "      <td>Manual</td>\n",
       "      <td>0</td>\n",
       "      <td>9</td>\n",
       "    </tr>\n",
       "    <tr>\n",
       "      <th>1</th>\n",
       "      <td>4.75</td>\n",
       "      <td>9.54</td>\n",
       "      <td>43000</td>\n",
       "      <td>Diesel</td>\n",
       "      <td>Dealer</td>\n",
       "      <td>Manual</td>\n",
       "      <td>0</td>\n",
       "      <td>10</td>\n",
       "    </tr>\n",
       "    <tr>\n",
       "      <th>2</th>\n",
       "      <td>7.25</td>\n",
       "      <td>9.85</td>\n",
       "      <td>6900</td>\n",
       "      <td>Petrol</td>\n",
       "      <td>Dealer</td>\n",
       "      <td>Manual</td>\n",
       "      <td>0</td>\n",
       "      <td>6</td>\n",
       "    </tr>\n",
       "    <tr>\n",
       "      <th>3</th>\n",
       "      <td>2.85</td>\n",
       "      <td>4.15</td>\n",
       "      <td>5200</td>\n",
       "      <td>Petrol</td>\n",
       "      <td>Dealer</td>\n",
       "      <td>Manual</td>\n",
       "      <td>0</td>\n",
       "      <td>12</td>\n",
       "    </tr>\n",
       "    <tr>\n",
       "      <th>4</th>\n",
       "      <td>4.60</td>\n",
       "      <td>6.87</td>\n",
       "      <td>42450</td>\n",
       "      <td>Diesel</td>\n",
       "      <td>Dealer</td>\n",
       "      <td>Manual</td>\n",
       "      <td>0</td>\n",
       "      <td>9</td>\n",
       "    </tr>\n",
       "  </tbody>\n",
       "</table>\n",
       "</div>"
      ],
      "text/plain": [
       "   Selling_Price  Present_Price  Kms_Driven Fuel_Type Seller_Type  \\\n",
       "0           3.35           5.59       27000    Petrol      Dealer   \n",
       "1           4.75           9.54       43000    Diesel      Dealer   \n",
       "2           7.25           9.85        6900    Petrol      Dealer   \n",
       "3           2.85           4.15        5200    Petrol      Dealer   \n",
       "4           4.60           6.87       42450    Diesel      Dealer   \n",
       "\n",
       "  Transmission  Owner  No.of_year  \n",
       "0       Manual      0           9  \n",
       "1       Manual      0          10  \n",
       "2       Manual      0           6  \n",
       "3       Manual      0          12  \n",
       "4       Manual      0           9  "
      ]
     },
     "execution_count": 18,
     "metadata": {},
     "output_type": "execute_result"
    }
   ],
   "source": [
    "car_dataset.drop(['Current_year'],axis=1,inplace=True) \n",
    "car_dataset.head()"
   ]
  },
  {
   "cell_type": "markdown",
   "id": "249f0363",
   "metadata": {
    "papermill": {
     "duration": 0.057531,
     "end_time": "2023-02-04T16:08:49.453998",
     "exception": false,
     "start_time": "2023-02-04T16:08:49.396467",
     "status": "completed"
    },
    "tags": []
   },
   "source": [
    "#### convert categorical data into dummy indicator variable\n",
    "**pd.get_dummies**:is used for data manipulation. It converts categorical data into dummy or indicator variables."
   ]
  },
  {
   "cell_type": "code",
   "execution_count": 19,
   "id": "c13f7477",
   "metadata": {
    "execution": {
     "iopub.execute_input": "2023-02-04T16:08:49.574138Z",
     "iopub.status.busy": "2023-02-04T16:08:49.573183Z",
     "iopub.status.idle": "2023-02-04T16:08:49.593336Z",
     "shell.execute_reply": "2023-02-04T16:08:49.593918Z",
     "shell.execute_reply.started": "2023-02-04T16:01:44.686871Z"
    },
    "papermill": {
     "duration": 0.080364,
     "end_time": "2023-02-04T16:08:49.594114",
     "exception": false,
     "start_time": "2023-02-04T16:08:49.513750",
     "status": "completed"
    },
    "tags": []
   },
   "outputs": [
    {
     "data": {
      "text/html": [
       "<div>\n",
       "<style scoped>\n",
       "    .dataframe tbody tr th:only-of-type {\n",
       "        vertical-align: middle;\n",
       "    }\n",
       "\n",
       "    .dataframe tbody tr th {\n",
       "        vertical-align: top;\n",
       "    }\n",
       "\n",
       "    .dataframe thead th {\n",
       "        text-align: right;\n",
       "    }\n",
       "</style>\n",
       "<table border=\"1\" class=\"dataframe\">\n",
       "  <thead>\n",
       "    <tr style=\"text-align: right;\">\n",
       "      <th></th>\n",
       "      <th>Selling_Price</th>\n",
       "      <th>Present_Price</th>\n",
       "      <th>Kms_Driven</th>\n",
       "      <th>Owner</th>\n",
       "      <th>No.of_year</th>\n",
       "      <th>Fuel_Type_Diesel</th>\n",
       "      <th>Fuel_Type_Petrol</th>\n",
       "      <th>Seller_Type_Individual</th>\n",
       "      <th>Transmission_Manual</th>\n",
       "    </tr>\n",
       "  </thead>\n",
       "  <tbody>\n",
       "    <tr>\n",
       "      <th>0</th>\n",
       "      <td>3.35</td>\n",
       "      <td>5.59</td>\n",
       "      <td>27000</td>\n",
       "      <td>0</td>\n",
       "      <td>9</td>\n",
       "      <td>0</td>\n",
       "      <td>1</td>\n",
       "      <td>0</td>\n",
       "      <td>1</td>\n",
       "    </tr>\n",
       "    <tr>\n",
       "      <th>1</th>\n",
       "      <td>4.75</td>\n",
       "      <td>9.54</td>\n",
       "      <td>43000</td>\n",
       "      <td>0</td>\n",
       "      <td>10</td>\n",
       "      <td>1</td>\n",
       "      <td>0</td>\n",
       "      <td>0</td>\n",
       "      <td>1</td>\n",
       "    </tr>\n",
       "    <tr>\n",
       "      <th>2</th>\n",
       "      <td>7.25</td>\n",
       "      <td>9.85</td>\n",
       "      <td>6900</td>\n",
       "      <td>0</td>\n",
       "      <td>6</td>\n",
       "      <td>0</td>\n",
       "      <td>1</td>\n",
       "      <td>0</td>\n",
       "      <td>1</td>\n",
       "    </tr>\n",
       "    <tr>\n",
       "      <th>3</th>\n",
       "      <td>2.85</td>\n",
       "      <td>4.15</td>\n",
       "      <td>5200</td>\n",
       "      <td>0</td>\n",
       "      <td>12</td>\n",
       "      <td>0</td>\n",
       "      <td>1</td>\n",
       "      <td>0</td>\n",
       "      <td>1</td>\n",
       "    </tr>\n",
       "    <tr>\n",
       "      <th>4</th>\n",
       "      <td>4.60</td>\n",
       "      <td>6.87</td>\n",
       "      <td>42450</td>\n",
       "      <td>0</td>\n",
       "      <td>9</td>\n",
       "      <td>1</td>\n",
       "      <td>0</td>\n",
       "      <td>0</td>\n",
       "      <td>1</td>\n",
       "    </tr>\n",
       "  </tbody>\n",
       "</table>\n",
       "</div>"
      ],
      "text/plain": [
       "   Selling_Price  Present_Price  Kms_Driven  Owner  No.of_year  \\\n",
       "0           3.35           5.59       27000      0           9   \n",
       "1           4.75           9.54       43000      0          10   \n",
       "2           7.25           9.85        6900      0           6   \n",
       "3           2.85           4.15        5200      0          12   \n",
       "4           4.60           6.87       42450      0           9   \n",
       "\n",
       "   Fuel_Type_Diesel  Fuel_Type_Petrol  Seller_Type_Individual  \\\n",
       "0                 0                 1                       0   \n",
       "1                 1                 0                       0   \n",
       "2                 0                 1                       0   \n",
       "3                 0                 1                       0   \n",
       "4                 1                 0                       0   \n",
       "\n",
       "   Transmission_Manual  \n",
       "0                    1  \n",
       "1                    1  \n",
       "2                    1  \n",
       "3                    1  \n",
       "4                    1  "
      ]
     },
     "execution_count": 19,
     "metadata": {},
     "output_type": "execute_result"
    }
   ],
   "source": [
    "car_dataset=pd.get_dummies(car_dataset,drop_first=True)\n",
    "car_dataset.head()"
   ]
  },
  {
   "cell_type": "markdown",
   "id": "937f6c25",
   "metadata": {
    "papermill": {
     "duration": 0.058656,
     "end_time": "2023-02-04T16:08:49.713478",
     "exception": false,
     "start_time": "2023-02-04T16:08:49.654822",
     "status": "completed"
    },
    "tags": []
   },
   "source": [
    "### 5.Perform data visualization "
   ]
  },
  {
   "cell_type": "markdown",
   "id": "8e83caa1",
   "metadata": {
    "papermill": {
     "duration": 0.057104,
     "end_time": "2023-02-04T16:08:49.827650",
     "exception": false,
     "start_time": "2023-02-04T16:08:49.770546",
     "status": "completed"
    },
    "tags": []
   },
   "source": [
    "#### Corretation between features"
   ]
  },
  {
   "cell_type": "code",
   "execution_count": 20,
   "id": "36de2a50",
   "metadata": {
    "execution": {
     "iopub.execute_input": "2023-02-04T16:08:49.947624Z",
     "iopub.status.busy": "2023-02-04T16:08:49.946861Z",
     "iopub.status.idle": "2023-02-04T16:09:07.354373Z",
     "shell.execute_reply": "2023-02-04T16:09:07.354873Z",
     "shell.execute_reply.started": "2023-02-04T16:01:51.046493Z"
    },
    "papermill": {
     "duration": 17.470443,
     "end_time": "2023-02-04T16:09:07.355077",
     "exception": false,
     "start_time": "2023-02-04T16:08:49.884634",
     "status": "completed"
    },
    "tags": []
   },
   "outputs": [
    {
     "data": {
      "text/plain": [
       "<seaborn.axisgrid.PairGrid at 0x2245504cbe0>"
      ]
     },
     "execution_count": 20,
     "metadata": {},
     "output_type": "execute_result"
    },
    {
     "data": {
      "image/png": "[encoded data removed]",
      "text/plain": [
       "<Figure size 1620x1620 with 90 Axes>"
      ]
     },
     "metadata": {
      "needs_background": "light"
     },
     "output_type": "display_data"
    }
   ],
   "source": [
    "#draw pairplot= Seaborn Pairplot uses to get the relation between each and every variable present in Pandas DataFrame\n",
    "\n",
    "sns.pairplot(car_dataset)"
   ]
  },
  {
   "cell_type": "code",
   "execution_count": 21,
   "id": "9185bc48",
   "metadata": {
    "execution": {
     "iopub.execute_input": "2023-02-04T16:09:07.484596Z",
     "iopub.status.busy": "2023-02-04T16:09:07.483878Z",
     "iopub.status.idle": "2023-02-04T16:09:07.501268Z",
     "shell.execute_reply": "2023-02-04T16:09:07.501758Z",
     "shell.execute_reply.started": "2023-02-04T16:02:03.040364Z"
    },
    "papermill": {
     "duration": 0.084254,
     "end_time": "2023-02-04T16:09:07.501936",
     "exception": false,
     "start_time": "2023-02-04T16:09:07.417682",
     "status": "completed"
    },
    "tags": []
   },
   "outputs": [
    {
     "data": {
      "text/html": [
       "<div>\n",
       "<style scoped>\n",
       "    .dataframe tbody tr th:only-of-type {\n",
       "        vertical-align: middle;\n",
       "    }\n",
       "\n",
       "    .dataframe tbody tr th {\n",
       "        vertical-align: top;\n",
       "    }\n",
       "\n",
       "    .dataframe thead th {\n",
       "        text-align: right;\n",
       "    }\n",
       "</style>\n",
       "<table border=\"1\" class=\"dataframe\">\n",
       "  <thead>\n",
       "    <tr style=\"text-align: right;\">\n",
       "      <th></th>\n",
       "      <th>Selling_Price</th>\n",
       "      <th>Present_Price</th>\n",
       "      <th>Kms_Driven</th>\n",
       "      <th>Owner</th>\n",
       "      <th>No.of_year</th>\n",
       "      <th>Fuel_Type_Diesel</th>\n",
       "      <th>Fuel_Type_Petrol</th>\n",
       "      <th>Seller_Type_Individual</th>\n",
       "      <th>Transmission_Manual</th>\n",
       "    </tr>\n",
       "  </thead>\n",
       "  <tbody>\n",
       "    <tr>\n",
       "      <th>Selling_Price</th>\n",
       "      <td>1.000000</td>\n",
       "      <td>0.878983</td>\n",
       "      <td>0.029187</td>\n",
       "      <td>-0.088344</td>\n",
       "      <td>-0.236141</td>\n",
       "      <td>0.552339</td>\n",
       "      <td>-0.540571</td>\n",
       "      <td>-0.550724</td>\n",
       "      <td>-0.367128</td>\n",
       "    </tr>\n",
       "    <tr>\n",
       "      <th>Present_Price</th>\n",
       "      <td>0.878983</td>\n",
       "      <td>1.000000</td>\n",
       "      <td>0.203647</td>\n",
       "      <td>0.008057</td>\n",
       "      <td>0.047584</td>\n",
       "      <td>0.473306</td>\n",
       "      <td>-0.465244</td>\n",
       "      <td>-0.512030</td>\n",
       "      <td>-0.348715</td>\n",
       "    </tr>\n",
       "    <tr>\n",
       "      <th>Kms_Driven</th>\n",
       "      <td>0.029187</td>\n",
       "      <td>0.203647</td>\n",
       "      <td>1.000000</td>\n",
       "      <td>0.089216</td>\n",
       "      <td>0.524342</td>\n",
       "      <td>0.172515</td>\n",
       "      <td>-0.172874</td>\n",
       "      <td>-0.101419</td>\n",
       "      <td>-0.162510</td>\n",
       "    </tr>\n",
       "    <tr>\n",
       "      <th>Owner</th>\n",
       "      <td>-0.088344</td>\n",
       "      <td>0.008057</td>\n",
       "      <td>0.089216</td>\n",
       "      <td>1.000000</td>\n",
       "      <td>0.182104</td>\n",
       "      <td>-0.053469</td>\n",
       "      <td>0.055687</td>\n",
       "      <td>0.124269</td>\n",
       "      <td>-0.050316</td>\n",
       "    </tr>\n",
       "    <tr>\n",
       "      <th>No.of_year</th>\n",
       "      <td>-0.236141</td>\n",
       "      <td>0.047584</td>\n",
       "      <td>0.524342</td>\n",
       "      <td>0.182104</td>\n",
       "      <td>1.000000</td>\n",
       "      <td>-0.064315</td>\n",
       "      <td>0.059959</td>\n",
       "      <td>0.039896</td>\n",
       "      <td>-0.000394</td>\n",
       "    </tr>\n",
       "    <tr>\n",
       "      <th>Fuel_Type_Diesel</th>\n",
       "      <td>0.552339</td>\n",
       "      <td>0.473306</td>\n",
       "      <td>0.172515</td>\n",
       "      <td>-0.053469</td>\n",
       "      <td>-0.064315</td>\n",
       "      <td>1.000000</td>\n",
       "      <td>-0.979648</td>\n",
       "      <td>-0.350467</td>\n",
       "      <td>-0.098643</td>\n",
       "    </tr>\n",
       "    <tr>\n",
       "      <th>Fuel_Type_Petrol</th>\n",
       "      <td>-0.540571</td>\n",
       "      <td>-0.465244</td>\n",
       "      <td>-0.172874</td>\n",
       "      <td>0.055687</td>\n",
       "      <td>0.059959</td>\n",
       "      <td>-0.979648</td>\n",
       "      <td>1.000000</td>\n",
       "      <td>0.358321</td>\n",
       "      <td>0.091013</td>\n",
       "    </tr>\n",
       "    <tr>\n",
       "      <th>Seller_Type_Individual</th>\n",
       "      <td>-0.550724</td>\n",
       "      <td>-0.512030</td>\n",
       "      <td>-0.101419</td>\n",
       "      <td>0.124269</td>\n",
       "      <td>0.039896</td>\n",
       "      <td>-0.350467</td>\n",
       "      <td>0.358321</td>\n",
       "      <td>1.000000</td>\n",
       "      <td>0.063240</td>\n",
       "    </tr>\n",
       "    <tr>\n",
       "      <th>Transmission_Manual</th>\n",
       "      <td>-0.367128</td>\n",
       "      <td>-0.348715</td>\n",
       "      <td>-0.162510</td>\n",
       "      <td>-0.050316</td>\n",
       "      <td>-0.000394</td>\n",
       "      <td>-0.098643</td>\n",
       "      <td>0.091013</td>\n",
       "      <td>0.063240</td>\n",
       "      <td>1.000000</td>\n",
       "    </tr>\n",
       "  </tbody>\n",
       "</table>\n",
       "</div>"
      ],
      "text/plain": [
       "                        Selling_Price  Present_Price  Kms_Driven     Owner  \\\n",
       "Selling_Price                1.000000       0.878983    0.029187 -0.088344   \n",
       "Present_Price                0.878983       1.000000    0.203647  0.008057   \n",
       "Kms_Driven                   0.029187       0.203647    1.000000  0.089216   \n",
       "Owner                       -0.088344       0.008057    0.089216  1.000000   \n",
       "No.of_year                  -0.236141       0.047584    0.524342  0.182104   \n",
       "Fuel_Type_Diesel             0.552339       0.473306    0.172515 -0.053469   \n",
       "Fuel_Type_Petrol            -0.540571      -0.465244   -0.172874  0.055687   \n",
       "Seller_Type_Individual      -0.550724      -0.512030   -0.101419  0.124269   \n",
       "Transmission_Manual         -0.367128      -0.348715   -0.162510 -0.050316   \n",
       "\n",
       "                        No.of_year  Fuel_Type_Diesel  Fuel_Type_Petrol  \\\n",
       "Selling_Price            -0.236141          0.552339         -0.540571   \n",
       "Present_Price             0.047584          0.473306         -0.465244   \n",
       "Kms_Driven                0.524342          0.172515         -0.172874   \n",
       "Owner                     0.182104         -0.053469          0.055687   \n",
       "No.of_year                1.000000         -0.064315          0.059959   \n",
       "Fuel_Type_Diesel         -0.064315          1.000000         -0.979648   \n",
       "Fuel_Type_Petrol          0.059959         -0.979648          1.000000   \n",
       "Seller_Type_Individual    0.039896         -0.350467          0.358321   \n",
       "Transmission_Manual      -0.000394         -0.098643          0.091013   \n",
       "\n",
       "                        Seller_Type_Individual  Transmission_Manual  \n",
       "Selling_Price                        -0.550724            -0.367128  \n",
       "Present_Price                        -0.512030            -0.348715  \n",
       "Kms_Driven                           -0.101419            -0.162510  \n",
       "Owner                                 0.124269            -0.050316  \n",
       "No.of_year                            0.039896            -0.000394  \n",
       "Fuel_Type_Diesel                     -0.350467            -0.098643  \n",
       "Fuel_Type_Petrol                      0.358321             0.091013  \n",
       "Seller_Type_Individual                1.000000             0.063240  \n",
       "Transmission_Manual                   0.063240             1.000000  "
      ]
     },
     "execution_count": 21,
     "metadata": {},
     "output_type": "execute_result"
    }
   ],
   "source": [
    "corr = car_dataset.corr()\n",
    "corr"
   ]
  },
  {
   "cell_type": "code",
   "execution_count": 22,
   "id": "ba1af63a",
   "metadata": {
    "execution": {
     "iopub.execute_input": "2023-02-04T16:09:07.631939Z",
     "iopub.status.busy": "2023-02-04T16:09:07.631251Z",
     "iopub.status.idle": "2023-02-04T16:09:07.953436Z",
     "shell.execute_reply": "2023-02-04T16:09:07.952871Z",
     "shell.execute_reply.started": "2023-02-04T16:02:14.696598Z"
    },
    "papermill": {
     "duration": 0.38849,
     "end_time": "2023-02-04T16:09:07.953590",
     "exception": false,
     "start_time": "2023-02-04T16:09:07.565100",
     "status": "completed"
    },
    "tags": []
   },
   "outputs": [
    {
     "data": {
      "image/png": "[encoded data removed]",
      "text/plain": [
       "<Figure size 432x288 with 2 Axes>"
      ]
     },
     "metadata": {
      "needs_background": "light"
     },
     "output_type": "display_data"
    }
   ],
   "source": [
    "# Using heatmap for correlation\n",
    "sns.heatmap(corr,cmap=\"coolwarm\") #coolwarm=warm color in colormap\n",
    "plt.show()"
   ]
  },
  {
   "cell_type": "code",
   "execution_count": 23,
   "id": "b631a1c8",
   "metadata": {
    "execution": {
     "iopub.execute_input": "2023-02-04T16:09:08.090499Z",
     "iopub.status.busy": "2023-02-04T16:09:08.089817Z",
     "iopub.status.idle": "2023-02-04T16:09:08.897659Z",
     "shell.execute_reply": "2023-02-04T16:09:08.898219Z",
     "shell.execute_reply.started": "2023-02-04T16:02:18.185860Z"
    },
    "papermill": {
     "duration": 0.879948,
     "end_time": "2023-02-04T16:09:08.898399",
     "exception": false,
     "start_time": "2023-02-04T16:09:08.018451",
     "status": "completed"
    },
    "tags": []
   },
   "outputs": [
    {
     "data": {
      "text/plain": [
       "<AxesSubplot:>"
      ]
     },
     "execution_count": 23,
     "metadata": {},
     "output_type": "execute_result"
    },
    {
     "data": {
      "image/png": "[encoded data removed]",
      "text/plain": [
       "<Figure size 720x720 with 2 Axes>"
      ]
     },
     "metadata": {
      "needs_background": "light"
     },
     "output_type": "display_data"
    }
   ],
   "source": [
    "#plot heatmap for top_corelation features\n",
    "\n",
    "top_corr_features = corr.index\n",
    "plt.figure(figsize=(10,10))\n",
    "\n",
    "sns.heatmap(car_dataset[top_corr_features].corr(),annot=True,cmap=\"RdYlGn\")"
   ]
  },
  {
   "cell_type": "markdown",
   "id": "e52dd313",
   "metadata": {
    "papermill": {
     "duration": 0.06759,
     "end_time": "2023-02-04T16:09:09.033353",
     "exception": false,
     "start_time": "2023-02-04T16:09:08.965763",
     "status": "completed"
    },
    "tags": []
   },
   "source": [
    "**Obervation**:\n",
    "- Dark green color shows positively correlated ,so selling price is directly correlated with transmittion system.\n",
    "- Red color shows negative corelation between fuels."
   ]
  },
  {
   "cell_type": "markdown",
   "id": "ac51fb9f",
   "metadata": {
    "papermill": {
     "duration": 0.067846,
     "end_time": "2023-02-04T16:09:09.169246",
     "exception": false,
     "start_time": "2023-02-04T16:09:09.101400",
     "status": "completed"
    },
    "tags": []
   },
   "source": [
    "### 6.Model fitting"
   ]
  },
  {
   "cell_type": "code",
   "execution_count": 24,
   "id": "ffa39f46",
   "metadata": {
    "execution": {
     "iopub.execute_input": "2023-02-04T16:09:09.317986Z",
     "iopub.status.busy": "2023-02-04T16:09:09.317075Z",
     "iopub.status.idle": "2023-02-04T16:09:09.320848Z",
     "shell.execute_reply": "2023-02-04T16:09:09.321347Z",
     "shell.execute_reply.started": "2023-02-04T16:02:25.875328Z"
    },
    "papermill": {
     "duration": 0.08511,
     "end_time": "2023-02-04T16:09:09.321532",
     "exception": false,
     "start_time": "2023-02-04T16:09:09.236422",
     "status": "completed"
    },
    "tags": []
   },
   "outputs": [
    {
     "data": {
      "text/html": [
       "<div>\n",
       "<style scoped>\n",
       "    .dataframe tbody tr th:only-of-type {\n",
       "        vertical-align: middle;\n",
       "    }\n",
       "\n",
       "    .dataframe tbody tr th {\n",
       "        vertical-align: top;\n",
       "    }\n",
       "\n",
       "    .dataframe thead th {\n",
       "        text-align: right;\n",
       "    }\n",
       "</style>\n",
       "<table border=\"1\" class=\"dataframe\">\n",
       "  <thead>\n",
       "    <tr style=\"text-align: right;\">\n",
       "      <th></th>\n",
       "      <th>Selling_Price</th>\n",
       "      <th>Present_Price</th>\n",
       "      <th>Kms_Driven</th>\n",
       "      <th>Owner</th>\n",
       "      <th>No.of_year</th>\n",
       "      <th>Fuel_Type_Diesel</th>\n",
       "      <th>Fuel_Type_Petrol</th>\n",
       "      <th>Seller_Type_Individual</th>\n",
       "      <th>Transmission_Manual</th>\n",
       "    </tr>\n",
       "  </thead>\n",
       "  <tbody>\n",
       "    <tr>\n",
       "      <th>0</th>\n",
       "      <td>3.35</td>\n",
       "      <td>5.59</td>\n",
       "      <td>27000</td>\n",
       "      <td>0</td>\n",
       "      <td>9</td>\n",
       "      <td>0</td>\n",
       "      <td>1</td>\n",
       "      <td>0</td>\n",
       "      <td>1</td>\n",
       "    </tr>\n",
       "    <tr>\n",
       "      <th>1</th>\n",
       "      <td>4.75</td>\n",
       "      <td>9.54</td>\n",
       "      <td>43000</td>\n",
       "      <td>0</td>\n",
       "      <td>10</td>\n",
       "      <td>1</td>\n",
       "      <td>0</td>\n",
       "      <td>0</td>\n",
       "      <td>1</td>\n",
       "    </tr>\n",
       "    <tr>\n",
       "      <th>2</th>\n",
       "      <td>7.25</td>\n",
       "      <td>9.85</td>\n",
       "      <td>6900</td>\n",
       "      <td>0</td>\n",
       "      <td>6</td>\n",
       "      <td>0</td>\n",
       "      <td>1</td>\n",
       "      <td>0</td>\n",
       "      <td>1</td>\n",
       "    </tr>\n",
       "    <tr>\n",
       "      <th>3</th>\n",
       "      <td>2.85</td>\n",
       "      <td>4.15</td>\n",
       "      <td>5200</td>\n",
       "      <td>0</td>\n",
       "      <td>12</td>\n",
       "      <td>0</td>\n",
       "      <td>1</td>\n",
       "      <td>0</td>\n",
       "      <td>1</td>\n",
       "    </tr>\n",
       "    <tr>\n",
       "      <th>4</th>\n",
       "      <td>4.60</td>\n",
       "      <td>6.87</td>\n",
       "      <td>42450</td>\n",
       "      <td>0</td>\n",
       "      <td>9</td>\n",
       "      <td>1</td>\n",
       "      <td>0</td>\n",
       "      <td>0</td>\n",
       "      <td>1</td>\n",
       "    </tr>\n",
       "  </tbody>\n",
       "</table>\n",
       "</div>"
      ],
      "text/plain": [
       "   Selling_Price  Present_Price  Kms_Driven  Owner  No.of_year  \\\n",
       "0           3.35           5.59       27000      0           9   \n",
       "1           4.75           9.54       43000      0          10   \n",
       "2           7.25           9.85        6900      0           6   \n",
       "3           2.85           4.15        5200      0          12   \n",
       "4           4.60           6.87       42450      0           9   \n",
       "\n",
       "   Fuel_Type_Diesel  Fuel_Type_Petrol  Seller_Type_Individual  \\\n",
       "0                 0                 1                       0   \n",
       "1                 1                 0                       0   \n",
       "2                 0                 1                       0   \n",
       "3                 0                 1                       0   \n",
       "4                 1                 0                       0   \n",
       "\n",
       "   Transmission_Manual  \n",
       "0                    1  \n",
       "1                    1  \n",
       "2                    1  \n",
       "3                    1  \n",
       "4                    1  "
      ]
     },
     "execution_count": 24,
     "metadata": {},
     "output_type": "execute_result"
    }
   ],
   "source": [
    "car_dataset.head()"
   ]
  },
  {
   "cell_type": "code",
   "execution_count": 25,
   "id": "3d54ed1b",
   "metadata": {
    "execution": {
     "iopub.execute_input": "2023-02-04T16:09:09.462258Z",
     "iopub.status.busy": "2023-02-04T16:09:09.461284Z",
     "iopub.status.idle": "2023-02-04T16:09:09.466048Z",
     "shell.execute_reply": "2023-02-04T16:09:09.466528Z",
     "shell.execute_reply.started": "2023-02-04T16:02:30.986563Z"
    },
    "papermill": {
     "duration": 0.07683,
     "end_time": "2023-02-04T16:09:09.466710",
     "exception": false,
     "start_time": "2023-02-04T16:09:09.389880",
     "status": "completed"
    },
    "tags": []
   },
   "outputs": [],
   "source": [
    "# Independent and dependent features:\n",
    "#selling price is dependent feature & all are independent features.\n",
    "X = car_dataset.iloc[:,1:]\n",
    "\n",
    "y = car_dataset.iloc[:,0]"
   ]
  },
  {
   "cell_type": "code",
   "execution_count": 26,
   "id": "acddeb8d",
   "metadata": {
    "execution": {
     "iopub.execute_input": "2023-02-04T16:09:09.606426Z",
     "iopub.status.busy": "2023-02-04T16:09:09.605745Z",
     "iopub.status.idle": "2023-02-04T16:09:09.617595Z",
     "shell.execute_reply": "2023-02-04T16:09:09.618225Z",
     "shell.execute_reply.started": "2023-02-04T16:02:34.426558Z"
    },
    "papermill": {
     "duration": 0.083668,
     "end_time": "2023-02-04T16:09:09.618412",
     "exception": false,
     "start_time": "2023-02-04T16:09:09.534744",
     "status": "completed"
    },
    "tags": []
   },
   "outputs": [
    {
     "data": {
      "text/html": [
       "<div>\n",
       "<style scoped>\n",
       "    .dataframe tbody tr th:only-of-type {\n",
       "        vertical-align: middle;\n",
       "    }\n",
       "\n",
       "    .dataframe tbody tr th {\n",
       "        vertical-align: top;\n",
       "    }\n",
       "\n",
       "    .dataframe thead th {\n",
       "        text-align: right;\n",
       "    }\n",
       "</style>\n",
       "<table border=\"1\" class=\"dataframe\">\n",
       "  <thead>\n",
       "    <tr style=\"text-align: right;\">\n",
       "      <th></th>\n",
       "      <th>Present_Price</th>\n",
       "      <th>Kms_Driven</th>\n",
       "      <th>Owner</th>\n",
       "      <th>No.of_year</th>\n",
       "      <th>Fuel_Type_Diesel</th>\n",
       "      <th>Fuel_Type_Petrol</th>\n",
       "      <th>Seller_Type_Individual</th>\n",
       "      <th>Transmission_Manual</th>\n",
       "    </tr>\n",
       "  </thead>\n",
       "  <tbody>\n",
       "    <tr>\n",
       "      <th>0</th>\n",
       "      <td>5.59</td>\n",
       "      <td>27000</td>\n",
       "      <td>0</td>\n",
       "      <td>9</td>\n",
       "      <td>0</td>\n",
       "      <td>1</td>\n",
       "      <td>0</td>\n",
       "      <td>1</td>\n",
       "    </tr>\n",
       "    <tr>\n",
       "      <th>1</th>\n",
       "      <td>9.54</td>\n",
       "      <td>43000</td>\n",
       "      <td>0</td>\n",
       "      <td>10</td>\n",
       "      <td>1</td>\n",
       "      <td>0</td>\n",
       "      <td>0</td>\n",
       "      <td>1</td>\n",
       "    </tr>\n",
       "    <tr>\n",
       "      <th>2</th>\n",
       "      <td>9.85</td>\n",
       "      <td>6900</td>\n",
       "      <td>0</td>\n",
       "      <td>6</td>\n",
       "      <td>0</td>\n",
       "      <td>1</td>\n",
       "      <td>0</td>\n",
       "      <td>1</td>\n",
       "    </tr>\n",
       "    <tr>\n",
       "      <th>3</th>\n",
       "      <td>4.15</td>\n",
       "      <td>5200</td>\n",
       "      <td>0</td>\n",
       "      <td>12</td>\n",
       "      <td>0</td>\n",
       "      <td>1</td>\n",
       "      <td>0</td>\n",
       "      <td>1</td>\n",
       "    </tr>\n",
       "    <tr>\n",
       "      <th>4</th>\n",
       "      <td>6.87</td>\n",
       "      <td>42450</td>\n",
       "      <td>0</td>\n",
       "      <td>9</td>\n",
       "      <td>1</td>\n",
       "      <td>0</td>\n",
       "      <td>0</td>\n",
       "      <td>1</td>\n",
       "    </tr>\n",
       "  </tbody>\n",
       "</table>\n",
       "</div>"
      ],
      "text/plain": [
       "   Present_Price  Kms_Driven  Owner  No.of_year  Fuel_Type_Diesel  \\\n",
       "0           5.59       27000      0           9                 0   \n",
       "1           9.54       43000      0          10                 1   \n",
       "2           9.85        6900      0           6                 0   \n",
       "3           4.15        5200      0          12                 0   \n",
       "4           6.87       42450      0           9                 1   \n",
       "\n",
       "   Fuel_Type_Petrol  Seller_Type_Individual  Transmission_Manual  \n",
       "0                 1                       0                    1  \n",
       "1                 0                       0                    1  \n",
       "2                 1                       0                    1  \n",
       "3                 1                       0                    1  \n",
       "4                 0                       0                    1  "
      ]
     },
     "execution_count": 26,
     "metadata": {},
     "output_type": "execute_result"
    }
   ],
   "source": [
    "X.head()"
   ]
  },
  {
   "cell_type": "code",
   "execution_count": 27,
   "id": "14215046",
   "metadata": {
    "execution": {
     "iopub.execute_input": "2023-02-04T16:09:09.766368Z",
     "iopub.status.busy": "2023-02-04T16:09:09.765565Z",
     "iopub.status.idle": "2023-02-04T16:09:09.769299Z",
     "shell.execute_reply": "2023-02-04T16:09:09.768614Z",
     "shell.execute_reply.started": "2023-02-04T16:02:37.274623Z"
    },
    "papermill": {
     "duration": 0.079893,
     "end_time": "2023-02-04T16:09:09.769449",
     "exception": false,
     "start_time": "2023-02-04T16:09:09.689556",
     "status": "completed"
    },
    "tags": []
   },
   "outputs": [
    {
     "data": {
      "text/plain": [
       "0    3.35\n",
       "1    4.75\n",
       "2    7.25\n",
       "3    2.85\n",
       "4    4.60\n",
       "Name: Selling_Price, dtype: float64"
      ]
     },
     "execution_count": 27,
     "metadata": {},
     "output_type": "execute_result"
    }
   ],
   "source": [
    "y.head()"
   ]
  },
  {
   "cell_type": "code",
   "execution_count": 28,
   "id": "15f1e146",
   "metadata": {
    "execution": {
     "iopub.execute_input": "2023-02-04T16:09:09.943930Z",
     "iopub.status.busy": "2023-02-04T16:09:09.943244Z",
     "iopub.status.idle": "2023-02-04T16:09:10.074675Z",
     "shell.execute_reply": "2023-02-04T16:09:10.073906Z",
     "shell.execute_reply.started": "2023-02-04T16:02:50.538265Z"
    },
    "papermill": {
     "duration": 0.21741,
     "end_time": "2023-02-04T16:09:10.074828",
     "exception": false,
     "start_time": "2023-02-04T16:09:09.857418",
     "status": "completed"
    },
    "tags": []
   },
   "outputs": [
    {
     "data": {
      "text/plain": [
       "ExtraTreesRegressor()"
      ]
     },
     "execution_count": 28,
     "metadata": {},
     "output_type": "execute_result"
    }
   ],
   "source": [
    "# feature Importance\n",
    "\n",
    "# from sklearn.ensemble import ExtraTreesRegressor\n",
    "\n",
    "model = ExtraTreesRegressor()\n",
    "model.fit(X,y)"
   ]
  },
  {
   "cell_type": "code",
   "execution_count": 29,
   "id": "14fd4f22",
   "metadata": {
    "execution": {
     "iopub.execute_input": "2023-02-04T16:09:10.224020Z",
     "iopub.status.busy": "2023-02-04T16:09:10.222914Z",
     "iopub.status.idle": "2023-02-04T16:09:10.234351Z",
     "shell.execute_reply": "2023-02-04T16:09:10.235007Z",
     "shell.execute_reply.started": "2023-02-04T16:02:57.645451Z"
    },
    "papermill": {
     "duration": 0.090552,
     "end_time": "2023-02-04T16:09:10.235274",
     "exception": false,
     "start_time": "2023-02-04T16:09:10.144722",
     "status": "completed"
    },
    "tags": []
   },
   "outputs": [
    {
     "name": "stdout",
     "output_type": "stream",
     "text": [
      "[0.40774127 0.03733814 0.00066527 0.08309441 0.20287888 0.01329664\n",
      " 0.1308436  0.12414177]\n"
     ]
    }
   ],
   "source": [
    "print(model.feature_importances_)"
   ]
  },
  {
   "cell_type": "markdown",
   "id": "308bd21a",
   "metadata": {
    "papermill": {
     "duration": 0.070975,
     "end_time": "2023-02-04T16:09:10.377938",
     "exception": false,
     "start_time": "2023-02-04T16:09:10.306963",
     "status": "completed"
    },
    "tags": []
   },
   "source": [
    "### Plot graph of feature importances for better visualization\n"
   ]
  },
  {
   "cell_type": "code",
   "execution_count": 30,
   "id": "7ee60fba",
   "metadata": {
    "execution": {
     "iopub.execute_input": "2023-02-04T16:09:10.527101Z",
     "iopub.status.busy": "2023-02-04T16:09:10.525748Z",
     "iopub.status.idle": "2023-02-04T16:09:10.711594Z",
     "shell.execute_reply": "2023-02-04T16:09:10.711022Z",
     "shell.execute_reply.started": "2023-02-04T16:03:01.135802Z"
    },
    "papermill": {
     "duration": 0.262997,
     "end_time": "2023-02-04T16:09:10.711747",
     "exception": false,
     "start_time": "2023-02-04T16:09:10.448750",
     "status": "completed"
    },
    "tags": []
   },
   "outputs": [
    {
     "data": {
      "image/png": "[encoded data removed]",
      "text/plain": [
       "<Figure size 432x288 with 1 Axes>"
      ]
     },
     "metadata": {
      "needs_background": "light"
     },
     "output_type": "display_data"
    }
   ],
   "source": [
    "feat_importances = pd.Series(model.feature_importances_, index=X.columns)\n",
    "feat_importances.nlargest(5).plot(kind='bar')\n",
    "plt.show()"
   ]
  },
  {
   "cell_type": "markdown",
   "id": "b718d84a",
   "metadata": {
    "papermill": {
     "duration": 0.071174,
     "end_time": "2023-02-04T16:09:10.854503",
     "exception": false,
     "start_time": "2023-02-04T16:09:10.783329",
     "status": "completed"
    },
    "tags": []
   },
   "source": [
    "**Oberservation**: Present price is so high."
   ]
  },
  {
   "cell_type": "markdown",
   "id": "22c09126",
   "metadata": {
    "papermill": {
     "duration": 0.070061,
     "end_time": "2023-02-04T16:09:10.996281",
     "exception": false,
     "start_time": "2023-02-04T16:09:10.926220",
     "status": "completed"
    },
    "tags": []
   },
   "source": [
    "### 7.Feature extraction"
   ]
  },
  {
   "cell_type": "code",
   "execution_count": 31,
   "id": "85c3889c",
   "metadata": {
    "execution": {
     "iopub.execute_input": "2023-02-04T16:09:11.141617Z",
     "iopub.status.busy": "2023-02-04T16:09:11.140934Z",
     "iopub.status.idle": "2023-02-04T16:09:11.146701Z",
     "shell.execute_reply": "2023-02-04T16:09:11.146185Z",
     "shell.execute_reply.started": "2023-02-04T16:03:05.755744Z"
    },
    "papermill": {
     "duration": 0.079459,
     "end_time": "2023-02-04T16:09:11.146843",
     "exception": false,
     "start_time": "2023-02-04T16:09:11.067384",
     "status": "completed"
    },
    "tags": []
   },
   "outputs": [],
   "source": [
    "from sklearn.model_selection import train_test_split\n",
    "\n",
    "X_train,X_test,y_train,y_test = train_test_split(X,y,test_size=0.2)"
   ]
  },
  {
   "cell_type": "code",
   "execution_count": 32,
   "id": "411dda6f",
   "metadata": {
    "execution": {
     "iopub.execute_input": "2023-02-04T16:09:11.293340Z",
     "iopub.status.busy": "2023-02-04T16:09:11.292215Z",
     "iopub.status.idle": "2023-02-04T16:09:11.298357Z",
     "shell.execute_reply": "2023-02-04T16:09:11.298810Z",
     "shell.execute_reply.started": "2023-02-04T16:03:08.116507Z"
    },
    "papermill": {
     "duration": 0.081263,
     "end_time": "2023-02-04T16:09:11.298990",
     "exception": false,
     "start_time": "2023-02-04T16:09:11.217727",
     "status": "completed"
    },
    "tags": []
   },
   "outputs": [
    {
     "data": {
      "text/plain": [
       "(240, 8)"
      ]
     },
     "execution_count": 32,
     "metadata": {},
     "output_type": "execute_result"
    }
   ],
   "source": [
    "X_train.shape"
   ]
  },
  {
   "cell_type": "markdown",
   "id": "5fe46cd0",
   "metadata": {
    "papermill": {
     "duration": 0.069993,
     "end_time": "2023-02-04T16:09:11.438991",
     "exception": false,
     "start_time": "2023-02-04T16:09:11.368998",
     "status": "completed"
    },
    "tags": []
   },
   "source": [
    "### Implement random forest regressor\n",
    "\n",
    "A random forest is a meta estimator that fits a number of classifying\n",
    "decision trees on various sub-samples of the dataset and uses averaging\n",
    "to improve the predictive accuracy and control over-fitting.\n"
   ]
  },
  {
   "cell_type": "code",
   "execution_count": 33,
   "id": "a58bc139",
   "metadata": {
    "execution": {
     "iopub.execute_input": "2023-02-04T16:09:11.583676Z",
     "iopub.status.busy": "2023-02-04T16:09:11.582724Z",
     "iopub.status.idle": "2023-02-04T16:09:11.586803Z",
     "shell.execute_reply": "2023-02-04T16:09:11.587388Z",
     "shell.execute_reply.started": "2023-02-04T16:03:23.266017Z"
    },
    "papermill": {
     "duration": 0.077987,
     "end_time": "2023-02-04T16:09:11.587567",
     "exception": false,
     "start_time": "2023-02-04T16:09:11.509580",
     "status": "completed"
    },
    "tags": []
   },
   "outputs": [],
   "source": [
    "from sklearn.ensemble import RandomForestRegressor\n",
    "rf_Random = RandomForestRegressor()"
   ]
  },
  {
   "cell_type": "markdown",
   "id": "5130af3d",
   "metadata": {
    "execution": {
     "iopub.execute_input": "2022-06-04T10:57:39.098638Z",
     "iopub.status.busy": "2022-06-04T10:57:39.097581Z",
     "iopub.status.idle": "2022-06-04T10:57:39.10328Z",
     "shell.execute_reply": "2022-06-04T10:57:39.102555Z",
     "shell.execute_reply.started": "2022-06-04T10:57:39.09858Z"
    },
    "papermill": {
     "duration": 0.072121,
     "end_time": "2023-02-04T16:09:11.730469",
     "exception": false,
     "start_time": "2023-02-04T16:09:11.658348",
     "status": "completed"
    },
    "tags": []
   },
   "source": [
    "### Hyperparameters:\n",
    "The hyperparameters are different parameter values that are used to control the learning process and have a significant effect on the performance of machine learning models.\n",
    "\n",
    "**Hyperparameter optimization** is the process of finding the right combination of hyperparameter values to achieve maximum performance on the data in a reasonable amount of time."
   ]
  },
  {
   "cell_type": "code",
   "execution_count": 34,
   "id": "2f0d5205",
   "metadata": {
    "execution": {
     "iopub.execute_input": "2023-02-04T16:09:11.877213Z",
     "iopub.status.busy": "2023-02-04T16:09:11.876216Z",
     "iopub.status.idle": "2023-02-04T16:09:11.881792Z",
     "shell.execute_reply": "2023-02-04T16:09:11.882298Z",
     "shell.execute_reply.started": "2023-02-04T16:03:28.716623Z"
    },
    "papermill": {
     "duration": 0.081271,
     "end_time": "2023-02-04T16:09:11.882471",
     "exception": false,
     "start_time": "2023-02-04T16:09:11.801200",
     "status": "completed"
    },
    "tags": []
   },
   "outputs": [
    {
     "name": "stdout",
     "output_type": "stream",
     "text": [
      "[100, 200, 300, 400, 500, 600, 700, 800, 900, 1000, 1100, 1200]\n"
     ]
    }
   ],
   "source": [
    "n_estimators=[int(x) for x in np.linspace(start = 100,stop=1200,num=12)] # Desision trees 100-1200\n",
    "print(n_estimators)"
   ]
  },
  {
   "cell_type": "markdown",
   "id": "ff97cbda",
   "metadata": {
    "execution": {
     "iopub.execute_input": "2021-10-08T10:13:06.358435Z",
     "iopub.status.busy": "2021-10-08T10:13:06.358122Z",
     "iopub.status.idle": "2021-10-08T10:13:06.362395Z",
     "shell.execute_reply": "2021-10-08T10:13:06.361581Z",
     "shell.execute_reply.started": "2021-10-08T10:13:06.358389Z"
    },
    "papermill": {
     "duration": 0.071055,
     "end_time": "2023-02-04T16:09:12.023935",
     "exception": false,
     "start_time": "2023-02-04T16:09:11.952880",
     "status": "completed"
    },
    "tags": []
   },
   "source": [
    "### Randomized Search cv:\n",
    "- Randomized Search which is used to find the most optimal combination of hyper parameters for coming up with the best model.\n",
    "- faster than grid search"
   ]
  },
  {
   "cell_type": "code",
   "execution_count": 35,
   "id": "ba3ee182",
   "metadata": {
    "execution": {
     "iopub.execute_input": "2023-02-04T16:09:12.175846Z",
     "iopub.status.busy": "2023-02-04T16:09:12.175159Z",
     "iopub.status.idle": "2023-02-04T16:09:12.177414Z",
     "shell.execute_reply": "2023-02-04T16:09:12.177959Z",
     "shell.execute_reply.started": "2023-02-04T16:03:33.506115Z"
    },
    "papermill": {
     "duration": 0.082492,
     "end_time": "2023-02-04T16:09:12.178154",
     "exception": false,
     "start_time": "2023-02-04T16:09:12.095662",
     "status": "completed"
    },
    "tags": []
   },
   "outputs": [],
   "source": [
    "# No. of trees in random forest\n",
    "n_estimators=[int(x) for x in np.linspace(start = 100, stop=1200, num=12)]\n",
    "\n",
    "# no. of features to consider at every split\n",
    "max_features=['auto','sqrt']\n",
    "\n",
    "#Max no of level in trees\n",
    "max_depth=[int(x) for x in np.linspace(5,30, num=6)]\n",
    "\n",
    "# maxDepth.appends(None)\n",
    "# minimum no of samples req to split a node\n",
    "\n",
    "min_samples_split=[2,5,10,100]\n",
    "\n",
    "# minimum no of samples req at each leaf node\n",
    "min_samples_leaf = [1,2,5,10]"
   ]
  },
  {
   "cell_type": "code",
   "execution_count": 36,
   "id": "fa2cda06",
   "metadata": {
    "execution": {
     "iopub.execute_input": "2023-02-04T16:09:12.323781Z",
     "iopub.status.busy": "2023-02-04T16:09:12.323071Z",
     "iopub.status.idle": "2023-02-04T16:09:12.326735Z",
     "shell.execute_reply": "2023-02-04T16:09:12.327272Z",
     "shell.execute_reply.started": "2023-02-04T16:03:37.417029Z"
    },
    "papermill": {
     "duration": 0.078725,
     "end_time": "2023-02-04T16:09:12.327446",
     "exception": false,
     "start_time": "2023-02-04T16:09:12.248721",
     "status": "completed"
    },
    "tags": []
   },
   "outputs": [],
   "source": [
    "### from sklearn.model_selection import RandomizedSearchCV\n",
    "### Create the random grid\n",
    "\n",
    "from sklearn.model_selection import RandomizedSearchCV"
   ]
  },
  {
   "cell_type": "code",
   "execution_count": 37,
   "id": "7e87003d",
   "metadata": {
    "execution": {
     "iopub.execute_input": "2023-02-04T16:09:12.472651Z",
     "iopub.status.busy": "2023-02-04T16:09:12.471905Z",
     "iopub.status.idle": "2023-02-04T16:09:12.478211Z",
     "shell.execute_reply": "2023-02-04T16:09:12.477626Z",
     "shell.execute_reply.started": "2023-02-04T16:03:39.926794Z"
    },
    "papermill": {
     "duration": 0.080486,
     "end_time": "2023-02-04T16:09:12.478366",
     "exception": false,
     "start_time": "2023-02-04T16:09:12.397880",
     "status": "completed"
    },
    "tags": []
   },
   "outputs": [
    {
     "name": "stdout",
     "output_type": "stream",
     "text": [
      "{'n_estimators': [100, 200, 300, 400, 500, 600, 700, 800, 900, 1000, 1100, 1200], 'max_features': ['auto', 'sqrt'], 'max_depth': [5, 10, 15, 20, 25, 30], 'min_samples_split': [2, 5, 10, 100], 'min_samples_leaf': [1, 2, 5, 10]}\n"
     ]
    }
   ],
   "source": [
    "random_grid = {'n_estimators':n_estimators,\n",
    "                \"max_features\":max_features,\n",
    "                \"max_depth\":max_depth,\n",
    "                \"min_samples_split\":min_samples_split,\n",
    "                'min_samples_leaf':min_samples_leaf}\n",
    "print(random_grid)"
   ]
  },
  {
   "cell_type": "markdown",
   "id": "6447274c",
   "metadata": {
    "execution": {
     "iopub.execute_input": "2023-02-04T16:03:44.336118Z",
     "iopub.status.busy": "2023-02-04T16:03:44.335826Z",
     "iopub.status.idle": "2023-02-04T16:03:44.340309Z",
     "shell.execute_reply": "2023-02-04T16:03:44.339299Z",
     "shell.execute_reply.started": "2023-02-04T16:03:44.336089Z"
    },
    "papermill": {
     "duration": 0.071482,
     "end_time": "2023-02-04T16:09:12.626552",
     "exception": false,
     "start_time": "2023-02-04T16:09:12.555070",
     "status": "completed"
    },
    "tags": []
   },
   "source": [
    "### Use the random grid to search for best hyperparameters\n",
    "### First create the base model to tune\n",
    "- Using crossvalidation"
   ]
  },
  {
   "cell_type": "code",
   "execution_count": 38,
   "id": "27fdaa32",
   "metadata": {
    "execution": {
     "iopub.execute_input": "2023-02-04T16:09:12.777791Z",
     "iopub.status.busy": "2023-02-04T16:09:12.777049Z",
     "iopub.status.idle": "2023-02-04T16:09:12.778755Z",
     "shell.execute_reply": "2023-02-04T16:09:12.779209Z",
     "shell.execute_reply.started": "2023-02-04T16:04:28.463594Z"
    },
    "papermill": {
     "duration": 0.080339,
     "end_time": "2023-02-04T16:09:12.779388",
     "exception": false,
     "start_time": "2023-02-04T16:09:12.699049",
     "status": "completed"
    },
    "tags": []
   },
   "outputs": [],
   "source": [
    "rf = RandomForestRegressor()"
   ]
  },
  {
   "cell_type": "code",
   "execution_count": 39,
   "id": "f1d71706",
   "metadata": {
    "execution": {
     "iopub.execute_input": "2023-02-04T16:09:12.925352Z",
     "iopub.status.busy": "2023-02-04T16:09:12.924617Z",
     "iopub.status.idle": "2023-02-04T16:09:12.928598Z",
     "shell.execute_reply": "2023-02-04T16:09:12.929082Z",
     "shell.execute_reply.started": "2023-02-04T16:04:38.337057Z"
    },
    "papermill": {
     "duration": 0.078816,
     "end_time": "2023-02-04T16:09:12.929307",
     "exception": false,
     "start_time": "2023-02-04T16:09:12.850491",
     "status": "completed"
    },
    "tags": []
   },
   "outputs": [],
   "source": [
    "rf_random = RandomizedSearchCV(estimator=rf, param_distributions =random_grid,scoring='neg_mean_squared_error',n_iter=10,cv=5,verbose=2,random_state=42,n_jobs=1)"
   ]
  },
  {
   "cell_type": "code",
   "execution_count": 40,
   "id": "9a78a2ca",
   "metadata": {
    "execution": {
     "iopub.execute_input": "2023-02-04T16:09:13.077267Z",
     "iopub.status.busy": "2023-02-04T16:09:13.076533Z",
     "iopub.status.idle": "2023-02-04T16:10:04.645870Z",
     "shell.execute_reply": "2023-02-04T16:10:04.645303Z",
     "shell.execute_reply.started": "2023-02-04T16:04:41.048356Z"
    },
    "papermill": {
     "duration": 51.644135,
     "end_time": "2023-02-04T16:10:04.646025",
     "exception": false,
     "start_time": "2023-02-04T16:09:13.001890",
     "status": "completed"
    },
    "tags": []
   },
   "outputs": [
    {
     "name": "stdout",
     "output_type": "stream",
     "text": [
      "Fitting 5 folds for each of 10 candidates, totalling 50 fits\n",
      "[CV] END max_depth=15, max_features=auto, min_samples_leaf=2, min_samples_split=100, n_estimators=900; total time=   0.5s\n",
      "[CV] END max_depth=15, max_features=auto, min_samples_leaf=2, min_samples_split=100, n_estimators=900; total time=   0.5s\n",
      "[CV] END max_depth=15, max_features=auto, min_samples_leaf=2, min_samples_split=100, n_estimators=900; total time=   0.6s\n",
      "[CV] END max_depth=15, max_features=auto, min_samples_leaf=2, min_samples_split=100, n_estimators=900; total time=   0.5s\n",
      "[CV] END max_depth=15, max_features=auto, min_samples_leaf=2, min_samples_split=100, n_estimators=900; total time=   0.5s\n",
      "[CV] END max_depth=20, max_features=auto, min_samples_leaf=5, min_samples_split=100, n_estimators=1100; total time=   0.6s\n",
      "[CV] END max_depth=20, max_features=auto, min_samples_leaf=5, min_samples_split=100, n_estimators=1100; total time=   0.7s\n",
      "[CV] END max_depth=20, max_features=auto, min_samples_leaf=5, min_samples_split=100, n_estimators=1100; total time=   0.7s\n",
      "[CV] END max_depth=20, max_features=auto, min_samples_leaf=5, min_samples_split=100, n_estimators=1100; total time=   0.7s\n",
      "[CV] END max_depth=20, max_features=auto, min_samples_leaf=5, min_samples_split=100, n_estimators=1100; total time=   0.7s\n",
      "[CV] END max_depth=15, max_features=sqrt, min_samples_leaf=10, min_samples_split=10, n_estimators=300; total time=   0.1s\n",
      "[CV] END max_depth=15, max_features=sqrt, min_samples_leaf=10, min_samples_split=10, n_estimators=300; total time=   0.1s\n",
      "[CV] END max_depth=15, max_features=sqrt, min_samples_leaf=10, min_samples_split=10, n_estimators=300; total time=   0.1s\n",
      "[CV] END max_depth=15, max_features=sqrt, min_samples_leaf=10, min_samples_split=10, n_estimators=300; total time=   0.1s\n",
      "[CV] END max_depth=15, max_features=sqrt, min_samples_leaf=10, min_samples_split=10, n_estimators=300; total time=   0.1s\n",
      "[CV] END max_depth=15, max_features=sqrt, min_samples_leaf=5, min_samples_split=100, n_estimators=400; total time=   0.2s\n",
      "[CV] END max_depth=15, max_features=sqrt, min_samples_leaf=5, min_samples_split=100, n_estimators=400; total time=   0.3s\n",
      "[CV] END max_depth=15, max_features=sqrt, min_samples_leaf=5, min_samples_split=100, n_estimators=400; total time=   0.3s\n",
      "[CV] END max_depth=15, max_features=sqrt, min_samples_leaf=5, min_samples_split=100, n_estimators=400; total time=   0.3s\n",
      "[CV] END max_depth=15, max_features=sqrt, min_samples_leaf=5, min_samples_split=100, n_estimators=400; total time=   0.2s\n",
      "[CV] END max_depth=25, max_features=auto, min_samples_leaf=5, min_samples_split=2, n_estimators=700; total time=   0.4s\n",
      "[CV] END max_depth=25, max_features=auto, min_samples_leaf=5, min_samples_split=2, n_estimators=700; total time=   0.4s\n",
      "[CV] END max_depth=25, max_features=auto, min_samples_leaf=5, min_samples_split=2, n_estimators=700; total time=   0.5s\n",
      "[CV] END max_depth=25, max_features=auto, min_samples_leaf=5, min_samples_split=2, n_estimators=700; total time=   0.5s\n",
      "[CV] END max_depth=25, max_features=auto, min_samples_leaf=5, min_samples_split=2, n_estimators=700; total time=   0.4s\n",
      "[CV] END max_depth=30, max_features=sqrt, min_samples_leaf=2, min_samples_split=2, n_estimators=1000; total time=   0.6s\n",
      "[CV] END max_depth=30, max_features=sqrt, min_samples_leaf=2, min_samples_split=2, n_estimators=1000; total time=   0.6s\n",
      "[CV] END max_depth=30, max_features=sqrt, min_samples_leaf=2, min_samples_split=2, n_estimators=1000; total time=   0.6s\n",
      "[CV] END max_depth=30, max_features=sqrt, min_samples_leaf=2, min_samples_split=2, n_estimators=1000; total time=   0.7s\n",
      "[CV] END max_depth=30, max_features=sqrt, min_samples_leaf=2, min_samples_split=2, n_estimators=1000; total time=   1.3s\n",
      "[CV] END max_depth=10, max_features=auto, min_samples_leaf=2, min_samples_split=10, n_estimators=1100; total time=   1.2s\n",
      "[CV] END max_depth=10, max_features=auto, min_samples_leaf=2, min_samples_split=10, n_estimators=1100; total time=   1.1s\n",
      "[CV] END max_depth=10, max_features=auto, min_samples_leaf=2, min_samples_split=10, n_estimators=1100; total time=   1.1s\n",
      "[CV] END max_depth=10, max_features=auto, min_samples_leaf=2, min_samples_split=10, n_estimators=1100; total time=   1.1s\n",
      "[CV] END max_depth=10, max_features=auto, min_samples_leaf=2, min_samples_split=10, n_estimators=1100; total time=   0.9s\n",
      "[CV] END max_depth=20, max_features=auto, min_samples_leaf=2, min_samples_split=100, n_estimators=300; total time=   0.2s\n",
      "[CV] END max_depth=20, max_features=auto, min_samples_leaf=2, min_samples_split=100, n_estimators=300; total time=   0.2s\n",
      "[CV] END max_depth=20, max_features=auto, min_samples_leaf=2, min_samples_split=100, n_estimators=300; total time=   0.2s\n",
      "[CV] END max_depth=20, max_features=auto, min_samples_leaf=2, min_samples_split=100, n_estimators=300; total time=   0.1s\n",
      "[CV] END max_depth=20, max_features=auto, min_samples_leaf=2, min_samples_split=100, n_estimators=300; total time=   0.1s\n",
      "[CV] END max_depth=5, max_features=sqrt, min_samples_leaf=5, min_samples_split=100, n_estimators=700; total time=   0.5s\n",
      "[CV] END max_depth=5, max_features=sqrt, min_samples_leaf=5, min_samples_split=100, n_estimators=700; total time=   0.6s\n",
      "[CV] END max_depth=5, max_features=sqrt, min_samples_leaf=5, min_samples_split=100, n_estimators=700; total time=   0.5s\n",
      "[CV] END max_depth=5, max_features=sqrt, min_samples_leaf=5, min_samples_split=100, n_estimators=700; total time=   0.4s\n",
      "[CV] END max_depth=5, max_features=sqrt, min_samples_leaf=5, min_samples_split=100, n_estimators=700; total time=   0.4s\n",
      "[CV] END max_depth=20, max_features=sqrt, min_samples_leaf=5, min_samples_split=100, n_estimators=700; total time=   0.3s\n",
      "[CV] END max_depth=20, max_features=sqrt, min_samples_leaf=5, min_samples_split=100, n_estimators=700; total time=   0.5s\n",
      "[CV] END max_depth=20, max_features=sqrt, min_samples_leaf=5, min_samples_split=100, n_estimators=700; total time=   0.5s\n",
      "[CV] END max_depth=20, max_features=sqrt, min_samples_leaf=5, min_samples_split=100, n_estimators=700; total time=   0.4s\n",
      "[CV] END max_depth=20, max_features=sqrt, min_samples_leaf=5, min_samples_split=100, n_estimators=700; total time=   0.3s\n"
     ]
    },
    {
     "data": {
      "text/plain": [
       "RandomizedSearchCV(cv=5, estimator=RandomForestRegressor(), n_jobs=1,\n",
       "                   param_distributions={'max_depth': [5, 10, 15, 20, 25, 30],\n",
       "                                        'max_features': ['auto', 'sqrt'],\n",
       "                                        'min_samples_leaf': [1, 2, 5, 10],\n",
       "                                        'min_samples_split': [2, 5, 10, 100],\n",
       "                                        'n_estimators': [100, 200, 300, 400,\n",
       "                                                         500, 600, 700, 800,\n",
       "                                                         900, 1000, 1100,\n",
       "                                                         1200]},\n",
       "                   random_state=42, scoring='neg_mean_squared_error',\n",
       "                   verbose=2)"
      ]
     },
     "execution_count": 40,
     "metadata": {},
     "output_type": "execute_result"
    }
   ],
   "source": [
    "rf_random.fit(X_train,y_train)"
   ]
  },
  {
   "cell_type": "code",
   "execution_count": 41,
   "id": "7d2c0d71",
   "metadata": {
    "execution": {
     "iopub.execute_input": "2023-02-04T16:10:04.849529Z",
     "iopub.status.busy": "2023-02-04T16:10:04.848699Z",
     "iopub.status.idle": "2023-02-04T16:10:04.853211Z",
     "shell.execute_reply": "2023-02-04T16:10:04.852639Z",
     "shell.execute_reply.started": "2023-02-04T16:05:23.142250Z"
    },
    "papermill": {
     "duration": 0.119592,
     "end_time": "2023-02-04T16:10:04.853375",
     "exception": false,
     "start_time": "2023-02-04T16:10:04.733783",
     "status": "completed"
    },
    "tags": []
   },
   "outputs": [
    {
     "data": {
      "text/plain": [
       "{'n_estimators': 1100,\n",
       " 'min_samples_split': 10,\n",
       " 'min_samples_leaf': 2,\n",
       " 'max_features': 'auto',\n",
       " 'max_depth': 10}"
      ]
     },
     "execution_count": 41,
     "metadata": {},
     "output_type": "execute_result"
    }
   ],
   "source": [
    "rf_random.best_params_"
   ]
  },
  {
   "cell_type": "code",
   "execution_count": 42,
   "id": "662f52c7",
   "metadata": {
    "execution": {
     "iopub.execute_input": "2023-02-04T16:10:05.040159Z",
     "iopub.status.busy": "2023-02-04T16:10:05.039084Z",
     "iopub.status.idle": "2023-02-04T16:10:05.044779Z",
     "shell.execute_reply": "2023-02-04T16:10:05.045288Z",
     "shell.execute_reply.started": "2023-02-04T16:05:56.253648Z"
    },
    "papermill": {
     "duration": 0.097188,
     "end_time": "2023-02-04T16:10:05.045465",
     "exception": false,
     "start_time": "2023-02-04T16:10:04.948277",
     "status": "completed"
    },
    "tags": []
   },
   "outputs": [
    {
     "data": {
      "text/plain": [
       "-4.0577066167598606"
      ]
     },
     "execution_count": 42,
     "metadata": {},
     "output_type": "execute_result"
    }
   ],
   "source": [
    "rf_random.best_score_"
   ]
  },
  {
   "cell_type": "markdown",
   "id": "7a3568e0",
   "metadata": {
    "papermill": {
     "duration": 0.086825,
     "end_time": "2023-02-04T16:10:05.220021",
     "exception": false,
     "start_time": "2023-02-04T16:10:05.133196",
     "status": "completed"
    },
    "tags": []
   },
   "source": [
    "### 8.Prediction"
   ]
  },
  {
   "cell_type": "code",
   "execution_count": 43,
   "id": "90028198",
   "metadata": {
    "execution": {
     "iopub.execute_input": "2023-02-04T16:10:05.461304Z",
     "iopub.status.busy": "2023-02-04T16:10:05.458544Z",
     "iopub.status.idle": "2023-02-04T16:10:05.541491Z",
     "shell.execute_reply": "2023-02-04T16:10:05.541983Z",
     "shell.execute_reply.started": "2023-02-04T16:06:05.615149Z"
    },
    "papermill": {
     "duration": 0.23545,
     "end_time": "2023-02-04T16:10:05.542190",
     "exception": false,
     "start_time": "2023-02-04T16:10:05.306740",
     "status": "completed"
    },
    "tags": []
   },
   "outputs": [],
   "source": [
    "predictions=rf_random.predict(X_test)"
   ]
  },
  {
   "cell_type": "code",
   "execution_count": 44,
   "id": "677371cf",
   "metadata": {
    "execution": {
     "iopub.execute_input": "2023-02-04T16:10:05.722902Z",
     "iopub.status.busy": "2023-02-04T16:10:05.721900Z",
     "iopub.status.idle": "2023-02-04T16:10:05.725563Z",
     "shell.execute_reply": "2023-02-04T16:10:05.726135Z",
     "shell.execute_reply.started": "2023-02-04T16:06:07.974410Z"
    },
    "papermill": {
     "duration": 0.097282,
     "end_time": "2023-02-04T16:10:05.726320",
     "exception": false,
     "start_time": "2023-02-04T16:10:05.629038",
     "status": "completed"
    },
    "tags": []
   },
   "outputs": [
    {
     "data": {
      "text/plain": [
       "array([ 3.06697084,  1.41344615,  3.17066551,  6.46483352,  0.67087746,\n",
       "       22.86167869,  0.73708514,  2.69895508,  5.77503504,  0.47033204,\n",
       "        0.86593846,  4.00043116,  4.1522502 ,  3.03679879,  2.82492596,\n",
       "        4.64264584,  5.75398367,  5.04102173,  2.9147224 ,  6.72328216,\n",
       "        5.40812852,  7.34956458,  5.57224172,  2.64407475,  0.57228584,\n",
       "        4.52430742,  7.74113468,  3.16478203,  0.47283342,  4.29344235,\n",
       "        0.34488724,  1.34875692, 11.61983858,  4.36838529,  0.22856623,\n",
       "        0.49332463,  7.7669608 ,  0.44284091,  1.15649857,  0.45486444,\n",
       "        0.55683674,  6.84317952,  4.96902168, 14.763069  ,  5.52388725,\n",
       "       23.019905  ,  4.06240746,  3.70440347,  0.3145711 ,  6.35342417,\n",
       "        7.97677511,  8.98357743,  8.10701384,  5.2609077 ,  3.07995793,\n",
       "        0.25839024,  0.43249356,  4.54960767,  3.00475038,  0.23172817,\n",
       "       22.14732408])"
      ]
     },
     "execution_count": 44,
     "metadata": {},
     "output_type": "execute_result"
    }
   ],
   "source": [
    "predictions"
   ]
  },
  {
   "cell_type": "code",
   "execution_count": 45,
   "id": "dc6f6d3f",
   "metadata": {
    "execution": {
     "iopub.execute_input": "2023-02-04T16:10:05.906925Z",
     "iopub.status.busy": "2023-02-04T16:10:05.906213Z",
     "iopub.status.idle": "2023-02-04T16:10:06.177398Z",
     "shell.execute_reply": "2023-02-04T16:10:06.177920Z",
     "shell.execute_reply.started": "2023-02-04T16:06:14.236369Z"
    },
    "papermill": {
     "duration": 0.362727,
     "end_time": "2023-02-04T16:10:06.178104",
     "exception": false,
     "start_time": "2023-02-04T16:10:05.815377",
     "status": "completed"
    },
    "tags": []
   },
   "outputs": [
    {
     "name": "stderr",
     "output_type": "stream",
     "text": [
      "C:\\Users\\Rushkesh\\anaconda3\\lib\\site-packages\\seaborn\\distributions.py:2619: FutureWarning: `distplot` is a deprecated function and will be removed in a future version. Please adapt your code to use either `displot` (a figure-level function with similar flexibility) or `histplot` (an axes-level function for histograms).\n",
      "  warnings.warn(msg, FutureWarning)\n"
     ]
    },
    {
     "data": {
      "text/plain": [
       "<AxesSubplot:xlabel='Selling_Price', ylabel='Density'>"
      ]
     },
     "execution_count": 45,
     "metadata": {},
     "output_type": "execute_result"
    },
    {
     "data": {
      "image/png": "[encoded data removed]",
      "text/plain": [
       "<Figure size 432x288 with 1 Axes>"
      ]
     },
     "metadata": {
      "needs_background": "light"
     },
     "output_type": "display_data"
    }
   ],
   "source": [
    "#using distplot for \n",
    "sns.distplot(y_test-predictions)"
   ]
  },
  {
   "cell_type": "markdown",
   "id": "cc043c0b",
   "metadata": {
    "papermill": {
     "duration": 0.089888,
     "end_time": "2023-02-04T16:10:06.357456",
     "exception": false,
     "start_time": "2023-02-04T16:10:06.267568",
     "status": "completed"
    },
    "tags": []
   },
   "source": [
    "**Observation**: We get normal distribution,its mean our model gives us very good results."
   ]
  },
  {
   "cell_type": "code",
   "execution_count": 46,
   "id": "d7930d34",
   "metadata": {
    "execution": {
     "iopub.execute_input": "2023-02-04T16:10:06.539607Z",
     "iopub.status.busy": "2023-02-04T16:10:06.538929Z",
     "iopub.status.idle": "2023-02-04T16:10:06.722049Z",
     "shell.execute_reply": "2023-02-04T16:10:06.722589Z",
     "shell.execute_reply.started": "2023-02-04T16:06:23.450218Z"
    },
    "papermill": {
     "duration": 0.275722,
     "end_time": "2023-02-04T16:10:06.722774",
     "exception": false,
     "start_time": "2023-02-04T16:10:06.447052",
     "status": "completed"
    },
    "tags": []
   },
   "outputs": [
    {
     "data": {
      "text/plain": [
       "<matplotlib.collections.PathCollection at 0x22459dcb4c0>"
      ]
     },
     "execution_count": 46,
     "metadata": {},
     "output_type": "execute_result"
    },
    {
     "data": {
      "image/png": "[encoded data removed]",
      "text/plain": [
       "<Figure size 432x288 with 1 Axes>"
      ]
     },
     "metadata": {
      "needs_background": "light"
     },
     "output_type": "display_data"
    }
   ],
   "source": [
    "plt.scatter(y_test,predictions)"
   ]
  },
  {
   "cell_type": "markdown",
   "id": "b8655bef",
   "metadata": {
    "papermill": {
     "duration": 0.09096,
     "end_time": "2023-02-04T16:10:06.904376",
     "exception": false,
     "start_time": "2023-02-04T16:10:06.813416",
     "status": "completed"
    },
    "tags": []
   },
   "source": [
    "**obeservation**:  ploting is linearly availabel thats means our prediction is prety much good.\n",
    "     "
   ]
  },
  {
   "cell_type": "code",
   "execution_count": 47,
   "id": "c761b7c8",
   "metadata": {
    "execution": {
     "iopub.execute_input": "2023-02-04T16:10:07.087872Z",
     "iopub.status.busy": "2023-02-04T16:10:07.087214Z",
     "iopub.status.idle": "2023-02-04T16:10:07.090537Z",
     "shell.execute_reply": "2023-02-04T16:10:07.091133Z",
     "shell.execute_reply.started": "2023-02-04T16:06:35.206026Z"
    },
    "papermill": {
     "duration": 0.096756,
     "end_time": "2023-02-04T16:10:07.091308",
     "exception": false,
     "start_time": "2023-02-04T16:10:06.994552",
     "status": "completed"
    },
    "tags": []
   },
   "outputs": [],
   "source": [
    "## Picke this file "
   ]
  },
  {
   "cell_type": "markdown",
   "id": "f414f9d6",
   "metadata": {
    "papermill": {
     "duration": 0.089419,
     "end_time": "2023-02-04T16:10:07.270083",
     "exception": false,
     "start_time": "2023-02-04T16:10:07.180664",
     "status": "completed"
    },
    "tags": []
   },
   "source": [
    "**Pickle** \n",
    "- It can be a machine learning algorithms or object.\n",
    "- It is the standard way of serializing objects in Python for deployment.\n",
    "- The pickle operation to serialize your machine learning algorithms and save the serialized format to a file.\n",
    "- Later you can load this file to deserialize your model and use it to make new predictions."
   ]
  },
  {
   "cell_type": "code",
   "execution_count": 48,
   "id": "57649670",
   "metadata": {
    "execution": {
     "iopub.execute_input": "2023-02-04T16:10:07.452830Z",
     "iopub.status.busy": "2023-02-04T16:10:07.452202Z",
     "iopub.status.idle": "2023-02-04T16:10:07.455891Z",
     "shell.execute_reply": "2023-02-04T16:10:07.456399Z",
     "shell.execute_reply.started": "2023-02-04T16:06:38.546348Z"
    },
    "papermill": {
     "duration": 0.096666,
     "end_time": "2023-02-04T16:10:07.456577",
     "exception": false,
     "start_time": "2023-02-04T16:10:07.359911",
     "status": "completed"
    },
    "tags": []
   },
   "outputs": [],
   "source": [
    "import pickle"
   ]
  },
  {
   "cell_type": "code",
   "execution_count": 49,
   "id": "aadbfbb9",
   "metadata": {
    "execution": {
     "iopub.execute_input": "2023-02-04T16:10:07.640182Z",
     "iopub.status.busy": "2023-02-04T16:10:07.639506Z",
     "iopub.status.idle": "2023-02-04T16:10:07.642858Z",
     "shell.execute_reply": "2023-02-04T16:10:07.643327Z",
     "shell.execute_reply.started": "2023-02-04T16:06:41.996183Z"
    },
    "papermill": {
     "duration": 0.097298,
     "end_time": "2023-02-04T16:10:07.643511",
     "exception": false,
     "start_time": "2023-02-04T16:10:07.546213",
     "status": "completed"
    },
    "tags": []
   },
   "outputs": [],
   "source": [
    "#open the file,where you are to store the data\n",
    "file = open('random_forest_regression_model.pkl','wb')"
   ]
  },
  {
   "cell_type": "code",
   "execution_count": 50,
   "id": "21fb817c",
   "metadata": {
    "execution": {
     "iopub.execute_input": "2023-02-04T16:10:07.827630Z",
     "iopub.status.busy": "2023-02-04T16:10:07.826943Z",
     "iopub.status.idle": "2023-02-04T16:10:07.876772Z",
     "shell.execute_reply": "2023-02-04T16:10:07.877334Z",
     "shell.execute_reply.started": "2023-02-04T16:06:46.085577Z"
    },
    "papermill": {
     "duration": 0.142731,
     "end_time": "2023-02-04T16:10:07.877529",
     "exception": false,
     "start_time": "2023-02-04T16:10:07.734798",
     "status": "completed"
    },
    "tags": []
   },
   "outputs": [],
   "source": [
    "# dump information to that file\n",
    "pickle.dump(rf_random, file)"
   ]
  },
  {
   "cell_type": "markdown",
   "id": "73fa805b",
   "metadata": {
    "papermill": {
     "duration": 0.089161,
     "end_time": "2023-02-04T16:10:08.056427",
     "exception": false,
     "start_time": "2023-02-04T16:10:07.967266",
     "status": "completed"
    },
    "tags": []
   },
   "source": [
    "### Creating requirement.txt file \n",
    "- Python requirements files are a great way to keep track of the Python modules. It is a simple text file that saves a list of the modules and packages required by your project.\n"
   ]
  },
  {
   "cell_type": "code",
   "execution_count": 51,
   "id": "d946af24",
   "metadata": {
    "execution": {
     "iopub.execute_input": "2023-02-04T16:10:08.239036Z",
     "iopub.status.busy": "2023-02-04T16:10:08.238397Z",
     "iopub.status.idle": "2023-02-04T16:10:11.203468Z",
     "shell.execute_reply": "2023-02-04T16:10:11.203992Z",
     "shell.execute_reply.started": "2023-02-04T16:06:53.299299Z"
    },
    "papermill": {
     "duration": 3.058133,
     "end_time": "2023-02-04T16:10:11.204210",
     "exception": false,
     "start_time": "2023-02-04T16:10:08.146077",
     "status": "completed"
    },
    "tags": []
   },
   "outputs": [
    {
     "name": "stdout",
     "output_type": "stream",
     "text": [
      "Note: you may need to restart the kernel to use updated packages.\n"
     ]
    }
   ],
   "source": [
    "pip freeze > requirements.txt"
   ]
  },
  {
   "cell_type": "code",
   "execution_count": 52,
   "id": "f5684ef7",
   "metadata": {
    "execution": {
     "iopub.execute_input": "2023-02-04T16:10:11.397917Z",
     "iopub.status.busy": "2023-02-04T16:10:11.391227Z",
     "iopub.status.idle": "2023-02-04T16:10:14.112824Z",
     "shell.execute_reply": "2023-02-04T16:10:14.113375Z",
     "shell.execute_reply.started": "2023-02-04T16:06:55.426572Z"
    },
    "papermill": {
     "duration": 2.819035,
     "end_time": "2023-02-04T16:10:14.113580",
     "exception": false,
     "start_time": "2023-02-04T16:10:11.294545",
     "status": "completed"
    },
    "tags": []
   },
   "outputs": [
    {
     "name": "stdout",
     "output_type": "stream",
     "text": [
      "Processing c:\\home\\ktietz\\src\\ci\\alabaster_1611921544520\\work\n",
      "Note: you may need to restart the kernel to use updated packages.\n"
     ]
    },
    {
     "name": "stderr",
     "output_type": "stream",
     "text": [
      "ERROR: Could not install packages due to an OSError: [Errno 2] No such file or directory: 'C:\\\\home\\\\ktietz\\\\src\\\\ci\\\\alabaster_1611921544520\\\\work'\n",
      "\n"
     ]
    }
   ],
   "source": [
    "pip install -r requirements.txt\n"
   ]
  },
  {
   "cell_type": "markdown",
   "id": "df4040af",
   "metadata": {
    "papermill": {
     "duration": 0.090689,
     "end_time": "2023-02-04T16:10:14.296250",
     "exception": false,
     "start_time": "2023-02-04T16:10:14.205561",
     "status": "completed"
    },
    "tags": []
   },
   "source": [
    "* Model file is created successfully."
   ]
  },
  {
   "cell_type": "markdown",
   "id": "657c7773",
   "metadata": {
    "papermill": {
     "duration": 0.090656,
     "end_time": "2023-02-04T16:10:14.658838",
     "exception": false,
     "start_time": "2023-02-04T16:10:14.568182",
     "status": "completed"
    },
    "tags": []
   },
   "source": [
    "### Thank you!\n",
    "## Continue Exploring.......!!\n"
   ]
  }
 ],
 "metadata": {
  "kernelspec": {
   "display_name": "Python 3 (ipykernel)",
   "language": "python",
   "name": "python3"
  },
  "language_info": {
   "codemirror_mode": {
    "name": "ipython",
    "version": 3
   },
   "file_extension": ".py",
   "mimetype": "text/x-python",
   "name": "python",
   "nbconvert_exporter": "python",
   "pygments_lexer": "ipython3",
   "version": "3.9.7"
  },
  "papermill": {
   "default_parameters": {},
   "duration": 109.954306,
   "end_time": "2023-02-04T16:10:16.734090",
   "environment_variables": {},
   "exception": null,
   "input_path": "__notebook__.ipynb",
   "output_path": "__notebook__.ipynb",
   "parameters": {},
   "start_time": "2023-02-04T16:08:26.779784",
   "version": "2.3.3"
  }
 },
 "nbformat": 4,
 "nbformat_minor": 5
}
